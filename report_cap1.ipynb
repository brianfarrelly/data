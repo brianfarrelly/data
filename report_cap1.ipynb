{
  "nbformat": 4,
  "nbformat_minor": 0,
  "metadata": {
    "kernelspec": {
      "display_name": "Python 3",
      "language": "python",
      "name": "python3"
    },
    "language_info": {
      "codemirror_mode": {
        "name": "ipython",
        "version": 3
      },
      "file_extension": ".py",
      "mimetype": "text/x-python",
      "name": "python",
      "nbconvert_exporter": "python",
      "pygments_lexer": "ipython3",
      "version": "3.7.4"
    },
    "colab": {
      "name": "report_cap1.ipynb",
      "provenance": [],
      "collapsed_sections": [],
      "include_colab_link": true
    }
  },
  "cells": [
    {
      "cell_type": "markdown",
      "metadata": {
        "id": "view-in-github",
        "colab_type": "text"
      },
      "source": [
        "<a href=\"https://colab.research.google.com/github/brianfarrelly/data/blob/master/report_cap1.ipynb\" target=\"_parent\"><img src=\"https://colab.research.google.com/assets/colab-badge.svg\" alt=\"Open In Colab\"/></a>"
      ]
    },
    {
      "cell_type": "markdown",
      "metadata": {
        "id": "99Jmz2FFaYOi",
        "colab_type": "text"
      },
      "source": [
        "## **Breast Cancer Wisconsin (Diagnostic) Data Set**\n",
        "## **Predict whether the cancer is benign or malignant**"
      ]
    },
    {
      "cell_type": "markdown",
      "metadata": {
        "id": "RZtYUnBbZyDy",
        "colab_type": "text"
      },
      "source": [
        "<h2 align=\"center\">Benign VS Malignant FNA</h2> <img src=\"https://raw.githubusercontent.com/brianfarrelly/data/master/SMEAR.png\">\n",
        "\n"
      ]
    },
    {
      "cell_type": "markdown",
      "metadata": {
        "id": "phrL8SpoGU1_",
        "colab_type": "text"
      },
      "source": [
        "The dataset I selected for this project is from Kaggle. It is highly rated on Kaggle and has been there for 3 years. I have intentionally not read the comments or previous work on this data so as not to bias my own analysis. I do plan to take a look after I have completed this project. \n",
        "\n",
        "https://www.kaggle.com/uciml/breast-cancer-wisconsin-data\n",
        "\n",
        "\n",
        "The features or columns in this dataset are numerical values created from digitized images of FNA (Fine Needle Aspiration). A needle biopsy which is a common medical procedure to test for the existence of breast cancer when lumps are detected that are close to the skin surface. The cells that are extracted with the needle biopsy are analyzed on a slide. In this case they were digitized and then the values of the digital images are recorded in this dataset. \n",
        "\n",
        "The basic design I have proposed is an A/B test to compare the Malignant biopsy results to the Benign biopsys. It seems the size, shape and texture of the cells of a malignant biopsy result would be significantly different than benign result. I plan to ttest the variables that are normalized and perform alternate tests for non-normal data. \n",
        "\n",
        "The audience of this analysis would be laypeople that may not have deep medical domain knowledge but may be making decisions based on the viability and cost/benefit of results of the analysis of testing for cancer. If the factors for the analysis of FNA results can be understood clearly then implementing these tests for early detection of breat cancer will reduce the costs of treatment for patients and costs hospitals bear for treating breast cancer patients. Early detection of cancer provides the best outcomes for patients and their service providers."
      ]
    },
    {
      "cell_type": "markdown",
      "metadata": {
        "id": "aRsFcW-SHJ4q",
        "colab_type": "text"
      },
      "source": [
        "Preliminary Data Exploration Below. The p-values being returned are extremely LOW. I have some concern about the data set being too small. I hope since it is a highly rated Kaggle project this is not such a problem. Medical testing by it's nature typically deals with smaller samples. The skewness and kurtosis of the histograms are a bit high but I believe they are in range for a t-test. I believe all the variables are continuous and can be t-tested.\n",
        "\n"
      ]
    },
    {
      "cell_type": "markdown",
      "metadata": {
        "id": "qngYaSI1bFHp",
        "colab_type": "text"
      },
      "source": [
        "This file is posted here and on google colab.\n",
        "\n",
        "https://github.com/brianfarrelly/data/blob/master/report_cap1.ipynb\n"
      ]
    },
    {
      "cell_type": "code",
      "metadata": {
        "id": "C-0K70KYo3eb",
        "colab_type": "code",
        "colab": {}
      },
      "source": [
        "%matplotlib inline\n",
        "import math\n",
        "import pandas as pd\n",
        "import numpy as np\n",
        "import seaborn as sns\n",
        "import matplotlib.pyplot as plt\n",
        "from scipy import stats"
      ],
      "execution_count": 0,
      "outputs": []
    },
    {
      "cell_type": "markdown",
      "metadata": {
        "id": "NQvRCNppDuxl",
        "colab_type": "text"
      },
      "source": [
        "Open the csv datafile hosted on my github at https://github.com/brianfarrelly/data\n",
        "The dataset has 569 rows and 33 columns. There are 31 columns of variables with continuous values. The data will be divided in 2 on the diagnosis variable that has 2 values M for malignant and B for benign."
      ]
    },
    {
      "cell_type": "code",
      "metadata": {
        "id": "FFNMvvX0o3ek",
        "colab_type": "code",
        "outputId": "50d46ddd-2a8c-4e82-9cdd-7f22047d675c",
        "colab": {
          "base_uri": "https://localhost:8080/",
          "height": 721
        }
      },
      "source": [
        "PATH = 'https://raw.githubusercontent.com/brianfarrelly/data/master/breast_cancer_WI.csv'\n",
        "bcdata = pd.read_csv(PATH)\n",
        "bcdata.info()"
      ],
      "execution_count": 0,
      "outputs": [
        {
          "output_type": "stream",
          "text": [
            "<class 'pandas.core.frame.DataFrame'>\n",
            "RangeIndex: 569 entries, 0 to 568\n",
            "Data columns (total 33 columns):\n",
            "id                         569 non-null int64\n",
            "diagnosis                  569 non-null object\n",
            "radius_mean                569 non-null float64\n",
            "texture_mean               569 non-null float64\n",
            "perimeter_mean             569 non-null float64\n",
            "area_mean                  569 non-null float64\n",
            "smoothness_mean            569 non-null float64\n",
            "compactness_mean           569 non-null float64\n",
            "concavity_mean             569 non-null float64\n",
            "concave points_mean        569 non-null float64\n",
            "symmetry_mean              569 non-null float64\n",
            "fractal_dimension_mean     569 non-null float64\n",
            "radius_se                  569 non-null float64\n",
            "texture_se                 569 non-null float64\n",
            "perimeter_se               569 non-null float64\n",
            "area_se                    569 non-null float64\n",
            "smoothness_se              569 non-null float64\n",
            "compactness_se             569 non-null float64\n",
            "concavity_se               569 non-null float64\n",
            "concave points_se          569 non-null float64\n",
            "symmetry_se                569 non-null float64\n",
            "fractal_dimension_se       569 non-null float64\n",
            "radius_worst               569 non-null float64\n",
            "texture_worst              569 non-null float64\n",
            "perimeter_worst            569 non-null float64\n",
            "area_worst                 569 non-null float64\n",
            "smoothness_worst           569 non-null float64\n",
            "compactness_worst          569 non-null float64\n",
            "concavity_worst            569 non-null float64\n",
            "concave points_worst       569 non-null float64\n",
            "symmetry_worst             569 non-null float64\n",
            "fractal_dimension_worst    569 non-null float64\n",
            "Unnamed: 32                0 non-null float64\n",
            "dtypes: float64(31), int64(1), object(1)\n",
            "memory usage: 146.8+ KB\n"
          ],
          "name": "stdout"
        }
      ]
    },
    {
      "cell_type": "markdown",
      "metadata": {
        "id": "RKPBfKYNDhAR",
        "colab_type": "text"
      },
      "source": [
        "Take a peak at the dataset, so far so good.\n"
      ]
    },
    {
      "cell_type": "code",
      "metadata": {
        "id": "axV51V1tiRQZ",
        "colab_type": "code",
        "outputId": "510675fb-2d5d-4203-9127-a32bb2259925",
        "colab": {
          "base_uri": "https://localhost:8080/",
          "height": 244
        }
      },
      "source": [
        "bcdata.head()\n"
      ],
      "execution_count": 0,
      "outputs": [
        {
          "output_type": "execute_result",
          "data": {
            "text/html": [
              "<div>\n",
              "<style scoped>\n",
              "    .dataframe tbody tr th:only-of-type {\n",
              "        vertical-align: middle;\n",
              "    }\n",
              "\n",
              "    .dataframe tbody tr th {\n",
              "        vertical-align: top;\n",
              "    }\n",
              "\n",
              "    .dataframe thead th {\n",
              "        text-align: right;\n",
              "    }\n",
              "</style>\n",
              "<table border=\"1\" class=\"dataframe\">\n",
              "  <thead>\n",
              "    <tr style=\"text-align: right;\">\n",
              "      <th></th>\n",
              "      <th>id</th>\n",
              "      <th>diagnosis</th>\n",
              "      <th>radius_mean</th>\n",
              "      <th>texture_mean</th>\n",
              "      <th>perimeter_mean</th>\n",
              "      <th>area_mean</th>\n",
              "      <th>smoothness_mean</th>\n",
              "      <th>compactness_mean</th>\n",
              "      <th>concavity_mean</th>\n",
              "      <th>concave points_mean</th>\n",
              "      <th>symmetry_mean</th>\n",
              "      <th>fractal_dimension_mean</th>\n",
              "      <th>radius_se</th>\n",
              "      <th>texture_se</th>\n",
              "      <th>perimeter_se</th>\n",
              "      <th>area_se</th>\n",
              "      <th>smoothness_se</th>\n",
              "      <th>compactness_se</th>\n",
              "      <th>concavity_se</th>\n",
              "      <th>concave points_se</th>\n",
              "      <th>symmetry_se</th>\n",
              "      <th>fractal_dimension_se</th>\n",
              "      <th>radius_worst</th>\n",
              "      <th>texture_worst</th>\n",
              "      <th>perimeter_worst</th>\n",
              "      <th>area_worst</th>\n",
              "      <th>smoothness_worst</th>\n",
              "      <th>compactness_worst</th>\n",
              "      <th>concavity_worst</th>\n",
              "      <th>concave points_worst</th>\n",
              "      <th>symmetry_worst</th>\n",
              "      <th>fractal_dimension_worst</th>\n",
              "      <th>Unnamed: 32</th>\n",
              "    </tr>\n",
              "  </thead>\n",
              "  <tbody>\n",
              "    <tr>\n",
              "      <th>0</th>\n",
              "      <td>842302</td>\n",
              "      <td>M</td>\n",
              "      <td>17.99</td>\n",
              "      <td>10.38</td>\n",
              "      <td>122.80</td>\n",
              "      <td>1001.0</td>\n",
              "      <td>0.11840</td>\n",
              "      <td>0.27760</td>\n",
              "      <td>0.3001</td>\n",
              "      <td>0.14710</td>\n",
              "      <td>0.2419</td>\n",
              "      <td>0.07871</td>\n",
              "      <td>1.0950</td>\n",
              "      <td>0.9053</td>\n",
              "      <td>8.589</td>\n",
              "      <td>153.40</td>\n",
              "      <td>0.006399</td>\n",
              "      <td>0.04904</td>\n",
              "      <td>0.05373</td>\n",
              "      <td>0.01587</td>\n",
              "      <td>0.03003</td>\n",
              "      <td>0.006193</td>\n",
              "      <td>25.38</td>\n",
              "      <td>17.33</td>\n",
              "      <td>184.60</td>\n",
              "      <td>2019.0</td>\n",
              "      <td>0.1622</td>\n",
              "      <td>0.6656</td>\n",
              "      <td>0.7119</td>\n",
              "      <td>0.2654</td>\n",
              "      <td>0.4601</td>\n",
              "      <td>0.11890</td>\n",
              "      <td>NaN</td>\n",
              "    </tr>\n",
              "    <tr>\n",
              "      <th>1</th>\n",
              "      <td>842517</td>\n",
              "      <td>M</td>\n",
              "      <td>20.57</td>\n",
              "      <td>17.77</td>\n",
              "      <td>132.90</td>\n",
              "      <td>1326.0</td>\n",
              "      <td>0.08474</td>\n",
              "      <td>0.07864</td>\n",
              "      <td>0.0869</td>\n",
              "      <td>0.07017</td>\n",
              "      <td>0.1812</td>\n",
              "      <td>0.05667</td>\n",
              "      <td>0.5435</td>\n",
              "      <td>0.7339</td>\n",
              "      <td>3.398</td>\n",
              "      <td>74.08</td>\n",
              "      <td>0.005225</td>\n",
              "      <td>0.01308</td>\n",
              "      <td>0.01860</td>\n",
              "      <td>0.01340</td>\n",
              "      <td>0.01389</td>\n",
              "      <td>0.003532</td>\n",
              "      <td>24.99</td>\n",
              "      <td>23.41</td>\n",
              "      <td>158.80</td>\n",
              "      <td>1956.0</td>\n",
              "      <td>0.1238</td>\n",
              "      <td>0.1866</td>\n",
              "      <td>0.2416</td>\n",
              "      <td>0.1860</td>\n",
              "      <td>0.2750</td>\n",
              "      <td>0.08902</td>\n",
              "      <td>NaN</td>\n",
              "    </tr>\n",
              "    <tr>\n",
              "      <th>2</th>\n",
              "      <td>84300903</td>\n",
              "      <td>M</td>\n",
              "      <td>19.69</td>\n",
              "      <td>21.25</td>\n",
              "      <td>130.00</td>\n",
              "      <td>1203.0</td>\n",
              "      <td>0.10960</td>\n",
              "      <td>0.15990</td>\n",
              "      <td>0.1974</td>\n",
              "      <td>0.12790</td>\n",
              "      <td>0.2069</td>\n",
              "      <td>0.05999</td>\n",
              "      <td>0.7456</td>\n",
              "      <td>0.7869</td>\n",
              "      <td>4.585</td>\n",
              "      <td>94.03</td>\n",
              "      <td>0.006150</td>\n",
              "      <td>0.04006</td>\n",
              "      <td>0.03832</td>\n",
              "      <td>0.02058</td>\n",
              "      <td>0.02250</td>\n",
              "      <td>0.004571</td>\n",
              "      <td>23.57</td>\n",
              "      <td>25.53</td>\n",
              "      <td>152.50</td>\n",
              "      <td>1709.0</td>\n",
              "      <td>0.1444</td>\n",
              "      <td>0.4245</td>\n",
              "      <td>0.4504</td>\n",
              "      <td>0.2430</td>\n",
              "      <td>0.3613</td>\n",
              "      <td>0.08758</td>\n",
              "      <td>NaN</td>\n",
              "    </tr>\n",
              "    <tr>\n",
              "      <th>3</th>\n",
              "      <td>84348301</td>\n",
              "      <td>M</td>\n",
              "      <td>11.42</td>\n",
              "      <td>20.38</td>\n",
              "      <td>77.58</td>\n",
              "      <td>386.1</td>\n",
              "      <td>0.14250</td>\n",
              "      <td>0.28390</td>\n",
              "      <td>0.2414</td>\n",
              "      <td>0.10520</td>\n",
              "      <td>0.2597</td>\n",
              "      <td>0.09744</td>\n",
              "      <td>0.4956</td>\n",
              "      <td>1.1560</td>\n",
              "      <td>3.445</td>\n",
              "      <td>27.23</td>\n",
              "      <td>0.009110</td>\n",
              "      <td>0.07458</td>\n",
              "      <td>0.05661</td>\n",
              "      <td>0.01867</td>\n",
              "      <td>0.05963</td>\n",
              "      <td>0.009208</td>\n",
              "      <td>14.91</td>\n",
              "      <td>26.50</td>\n",
              "      <td>98.87</td>\n",
              "      <td>567.7</td>\n",
              "      <td>0.2098</td>\n",
              "      <td>0.8663</td>\n",
              "      <td>0.6869</td>\n",
              "      <td>0.2575</td>\n",
              "      <td>0.6638</td>\n",
              "      <td>0.17300</td>\n",
              "      <td>NaN</td>\n",
              "    </tr>\n",
              "    <tr>\n",
              "      <th>4</th>\n",
              "      <td>84358402</td>\n",
              "      <td>M</td>\n",
              "      <td>20.29</td>\n",
              "      <td>14.34</td>\n",
              "      <td>135.10</td>\n",
              "      <td>1297.0</td>\n",
              "      <td>0.10030</td>\n",
              "      <td>0.13280</td>\n",
              "      <td>0.1980</td>\n",
              "      <td>0.10430</td>\n",
              "      <td>0.1809</td>\n",
              "      <td>0.05883</td>\n",
              "      <td>0.7572</td>\n",
              "      <td>0.7813</td>\n",
              "      <td>5.438</td>\n",
              "      <td>94.44</td>\n",
              "      <td>0.011490</td>\n",
              "      <td>0.02461</td>\n",
              "      <td>0.05688</td>\n",
              "      <td>0.01885</td>\n",
              "      <td>0.01756</td>\n",
              "      <td>0.005115</td>\n",
              "      <td>22.54</td>\n",
              "      <td>16.67</td>\n",
              "      <td>152.20</td>\n",
              "      <td>1575.0</td>\n",
              "      <td>0.1374</td>\n",
              "      <td>0.2050</td>\n",
              "      <td>0.4000</td>\n",
              "      <td>0.1625</td>\n",
              "      <td>0.2364</td>\n",
              "      <td>0.07678</td>\n",
              "      <td>NaN</td>\n",
              "    </tr>\n",
              "  </tbody>\n",
              "</table>\n",
              "</div>"
            ],
            "text/plain": [
              "         id diagnosis  ...  fractal_dimension_worst  Unnamed: 32\n",
              "0    842302         M  ...                  0.11890          NaN\n",
              "1    842517         M  ...                  0.08902          NaN\n",
              "2  84300903         M  ...                  0.08758          NaN\n",
              "3  84348301         M  ...                  0.17300          NaN\n",
              "4  84358402         M  ...                  0.07678          NaN\n",
              "\n",
              "[5 rows x 33 columns]"
            ]
          },
          "metadata": {
            "tags": []
          },
          "execution_count": 182
        }
      ]
    },
    {
      "cell_type": "markdown",
      "metadata": {
        "id": "72V_gmEcE1rc",
        "colab_type": "text"
      },
      "source": [
        "Below I just check for Null values for any of the columns I am using for this data analysis. The entire dataset has no null values for named columns. So there will be no cleaning of the data for Nulls for this data."
      ]
    },
    {
      "cell_type": "code",
      "metadata": {
        "id": "kEBkPMQKDlhd",
        "colab_type": "code",
        "outputId": "c98f84af-39da-4c41-ae7e-1f91a3ab004d",
        "colab": {
          "base_uri": "https://localhost:8080/",
          "height": 36
        }
      },
      "source": [
        "bcdata.diagnosis.isnull().sum()"
      ],
      "execution_count": 0,
      "outputs": [
        {
          "output_type": "execute_result",
          "data": {
            "text/plain": [
              "0"
            ]
          },
          "metadata": {
            "tags": []
          },
          "execution_count": 4
        }
      ]
    },
    {
      "cell_type": "code",
      "metadata": {
        "id": "igyh28yHidAE",
        "colab_type": "code",
        "outputId": "318d770f-6f84-4961-be6d-6a0847f522d0",
        "colab": {
          "base_uri": "https://localhost:8080/",
          "height": 36
        }
      },
      "source": [
        "bcdata.radius_mean.isnull().sum()"
      ],
      "execution_count": 0,
      "outputs": [
        {
          "output_type": "execute_result",
          "data": {
            "text/plain": [
              "0"
            ]
          },
          "metadata": {
            "tags": []
          },
          "execution_count": 5
        }
      ]
    },
    {
      "cell_type": "code",
      "metadata": {
        "id": "rFipKFdUij26",
        "colab_type": "code",
        "outputId": "4a1ca4ab-930c-4abb-b317-c9bbafc0e6e8",
        "colab": {
          "base_uri": "https://localhost:8080/",
          "height": 36
        }
      },
      "source": [
        "bcdata.texture_mean.isnull().sum()"
      ],
      "execution_count": 0,
      "outputs": [
        {
          "output_type": "execute_result",
          "data": {
            "text/plain": [
              "0"
            ]
          },
          "metadata": {
            "tags": []
          },
          "execution_count": 6
        }
      ]
    },
    {
      "cell_type": "code",
      "metadata": {
        "id": "q71sB5dLix-F",
        "colab_type": "code",
        "outputId": "14d4eab4-cfa1-4e31-e03c-bf409230f710",
        "colab": {
          "base_uri": "https://localhost:8080/",
          "height": 36
        }
      },
      "source": [
        "bcdata.perimeter_mean.isnull().sum()"
      ],
      "execution_count": 0,
      "outputs": [
        {
          "output_type": "execute_result",
          "data": {
            "text/plain": [
              "0"
            ]
          },
          "metadata": {
            "tags": []
          },
          "execution_count": 7
        }
      ]
    },
    {
      "cell_type": "markdown",
      "metadata": {
        "id": "6IA1LGhTFUTt",
        "colab_type": "text"
      },
      "source": [
        "Again confirm there are 569 rows of data."
      ]
    },
    {
      "cell_type": "code",
      "metadata": {
        "id": "ELYHkn_Bo3e0",
        "colab_type": "code",
        "outputId": "b6b7b101-92ab-489b-bf57-6137db32a400",
        "colab": {
          "base_uri": "https://localhost:8080/",
          "height": 36
        }
      },
      "source": [
        "len(bcdata)"
      ],
      "execution_count": 0,
      "outputs": [
        {
          "output_type": "execute_result",
          "data": {
            "text/plain": [
              "569"
            ]
          },
          "metadata": {
            "tags": []
          },
          "execution_count": 8
        }
      ]
    },
    {
      "cell_type": "markdown",
      "metadata": {
        "id": "kyFZCeiLFaCG",
        "colab_type": "text"
      },
      "source": [
        "Below check that the diagnosis column has 2 unique values and that they are 'M' and 'B'."
      ]
    },
    {
      "cell_type": "code",
      "metadata": {
        "id": "yo_QiW1OjKdh",
        "colab_type": "code",
        "outputId": "6c688de0-a5eb-45c2-c942-c09fff1e5f4b",
        "colab": {
          "base_uri": "https://localhost:8080/",
          "height": 36
        }
      },
      "source": [
        "bcdata.diagnosis.nunique()"
      ],
      "execution_count": 0,
      "outputs": [
        {
          "output_type": "execute_result",
          "data": {
            "text/plain": [
              "2"
            ]
          },
          "metadata": {
            "tags": []
          },
          "execution_count": 9
        }
      ]
    },
    {
      "cell_type": "code",
      "metadata": {
        "id": "aSadFGoNjCYX",
        "colab_type": "code",
        "outputId": "ee3ee494-5ac1-41bf-8947-760f2d9eef22",
        "colab": {
          "base_uri": "https://localhost:8080/",
          "height": 36
        }
      },
      "source": [
        "bcdata.diagnosis.unique()"
      ],
      "execution_count": 0,
      "outputs": [
        {
          "output_type": "execute_result",
          "data": {
            "text/plain": [
              "array(['M', 'B'], dtype=object)"
            ]
          },
          "metadata": {
            "tags": []
          },
          "execution_count": 10
        }
      ]
    },
    {
      "cell_type": "markdown",
      "metadata": {
        "id": "jVq7NMNLvmKr",
        "colab_type": "text"
      },
      "source": [
        "Below scatterplot and do a Pearson's correlation between radius_mean and perimeter mean. Not surprising the correlation between the radius of a nucleus of a cell and the perimeter is a very high postive correlation. Just as the radius of a circle is highly correlated to its circumfrence. In this case it is the mean of a lot of cells radius correlated to the mean of the same lot of cells perimeters.\n",
        "  "
      ]
    },
    {
      "cell_type": "code",
      "metadata": {
        "id": "VfCYaFR6rz38",
        "colab_type": "code",
        "outputId": "3d24827d-560e-410f-cc79-e8f76a246b7e",
        "colab": {
          "base_uri": "https://localhost:8080/",
          "height": 299
        }
      },
      "source": [
        "sns.scatterplot(bcdata['radius_mean'], bcdata['perimeter_mean'], \n",
        "                hue=bcdata['texture_mean'] )"
      ],
      "execution_count": 0,
      "outputs": [
        {
          "output_type": "execute_result",
          "data": {
            "text/plain": [
              "<matplotlib.axes._subplots.AxesSubplot at 0x7f2c76b19be0>"
            ]
          },
          "metadata": {
            "tags": []
          },
          "execution_count": 200
        },
        {
          "output_type": "display_data",
          "data": {
            "image/png": "[encoded data removed]",
            "text/plain": [
              "<Figure size 432x288 with 1 Axes>"
            ]
          },
          "metadata": {
            "tags": []
          }
        }
      ]
    },
    {
      "cell_type": "code",
      "metadata": {
        "id": "RwxM5JfUs775",
        "colab_type": "code",
        "outputId": "7ad08b43-d137-47f6-ebac-8c73ceba57b1",
        "colab": {
          "base_uri": "https://localhost:8080/",
          "height": 36
        }
      },
      "source": [
        "stats.pearsonr(bcdata['radius_mean'], bcdata['perimeter_mean'] )"
      ],
      "execution_count": 0,
      "outputs": [
        {
          "output_type": "execute_result",
          "data": {
            "text/plain": [
              "(0.9978552814938108, 0.0)"
            ]
          },
          "metadata": {
            "tags": []
          },
          "execution_count": 201
        }
      ]
    },
    {
      "cell_type": "markdown",
      "metadata": {
        "id": "48q4VYWjwokx",
        "colab_type": "text"
      },
      "source": [
        "It seems the size of a sample of cells is not highly correlated to it's texture.\n"
      ]
    },
    {
      "cell_type": "code",
      "metadata": {
        "id": "Z9rCgOS3uUi9",
        "colab_type": "code",
        "outputId": "3b962c06-3a0c-44b5-fa03-631263d146d8",
        "colab": {
          "base_uri": "https://localhost:8080/",
          "height": 36
        }
      },
      "source": [
        "stats.pearsonr(bcdata['radius_mean'], bcdata['texture_mean'] )"
      ],
      "execution_count": 0,
      "outputs": [
        {
          "output_type": "execute_result",
          "data": {
            "text/plain": [
              "(0.3237818909277329, 2.3603743759227106e-15)"
            ]
          },
          "metadata": {
            "tags": []
          },
          "execution_count": 202
        }
      ]
    },
    {
      "cell_type": "code",
      "metadata": {
        "id": "5CCF1KkoufEh",
        "colab_type": "code",
        "outputId": "59059cfe-ac8a-46f1-edcc-53d0606b38e7",
        "colab": {
          "base_uri": "https://localhost:8080/",
          "height": 36
        }
      },
      "source": [
        "stats.pearsonr(bcdata['perimeter_mean'], bcdata['texture_mean'])"
      ],
      "execution_count": 0,
      "outputs": [
        {
          "output_type": "execute_result",
          "data": {
            "text/plain": [
              "(0.3295330586865702, 7.0419612377641145e-16)"
            ]
          },
          "metadata": {
            "tags": []
          },
          "execution_count": 204
        }
      ]
    },
    {
      "cell_type": "markdown",
      "metadata": {
        "id": "mrgqX0pKFshT",
        "colab_type": "text"
      },
      "source": [
        "Use describe() on radius_mean, texture_mean and perimeter_mean columns. Note the standard deviation for each is 3.5, 4.3 and 91.9 respectively."
      ]
    },
    {
      "cell_type": "code",
      "metadata": {
        "id": "HoiRtjWio3e9",
        "colab_type": "code",
        "outputId": "c7c011f3-8927-415a-b0d2-6cdca2fc2ebb",
        "colab": {
          "base_uri": "https://localhost:8080/",
          "height": 184
        }
      },
      "source": [
        "bcdata.radius_mean.describe()"
      ],
      "execution_count": 0,
      "outputs": [
        {
          "output_type": "execute_result",
          "data": {
            "text/plain": [
              "count    569.000000\n",
              "mean      14.127292\n",
              "std        3.524049\n",
              "min        6.981000\n",
              "25%       11.700000\n",
              "50%       13.370000\n",
              "75%       15.780000\n",
              "max       28.110000\n",
              "Name: radius_mean, dtype: float64"
            ]
          },
          "metadata": {
            "tags": []
          },
          "execution_count": 11
        }
      ]
    },
    {
      "cell_type": "code",
      "metadata": {
        "id": "HacZrzDejRVO",
        "colab_type": "code",
        "outputId": "e3e25b81-e702-4b4d-8793-7c871f4f6c2e",
        "colab": {
          "base_uri": "https://localhost:8080/",
          "height": 184
        }
      },
      "source": [
        "bcdata.texture_mean.describe()"
      ],
      "execution_count": 0,
      "outputs": [
        {
          "output_type": "execute_result",
          "data": {
            "text/plain": [
              "count    569.000000\n",
              "mean      19.289649\n",
              "std        4.301036\n",
              "min        9.710000\n",
              "25%       16.170000\n",
              "50%       18.840000\n",
              "75%       21.800000\n",
              "max       39.280000\n",
              "Name: texture_mean, dtype: float64"
            ]
          },
          "metadata": {
            "tags": []
          },
          "execution_count": 12
        }
      ]
    },
    {
      "cell_type": "code",
      "metadata": {
        "id": "SujCTqoojW8u",
        "colab_type": "code",
        "outputId": "4ddb534d-73b2-4efb-e797-3d7570fdda31",
        "colab": {
          "base_uri": "https://localhost:8080/",
          "height": 184
        }
      },
      "source": [
        "bcdata.perimeter_mean.describe()"
      ],
      "execution_count": 0,
      "outputs": [
        {
          "output_type": "execute_result",
          "data": {
            "text/plain": [
              "count    569.000000\n",
              "mean      91.969033\n",
              "std       24.298981\n",
              "min       43.790000\n",
              "25%       75.170000\n",
              "50%       86.240000\n",
              "75%      104.100000\n",
              "max      188.500000\n",
              "Name: perimeter_mean, dtype: float64"
            ]
          },
          "metadata": {
            "tags": []
          },
          "execution_count": 13
        }
      ]
    },
    {
      "cell_type": "markdown",
      "metadata": {
        "id": "zNGC_IqnGNBK",
        "colab_type": "text"
      },
      "source": [
        "Plot the histograms for radius_mean, texture_mean and perimeter_mean. They seem to pass the eyeball test for being relatively normalized data. Note that the color magenta is used because bright pink is the official color of breast cancer."
      ]
    },
    {
      "cell_type": "code",
      "metadata": {
        "id": "POeJH3W3Kqbo",
        "colab_type": "code",
        "outputId": "b9871123-489f-41d7-a3ca-1da5179176c3",
        "colab": {
          "base_uri": "https://localhost:8080/",
          "height": 280
        }
      },
      "source": [
        "ax = sns.distplot(bcdata['radius_mean'], color='magenta')"
      ],
      "execution_count": 0,
      "outputs": [
        {
          "output_type": "display_data",
          "data": {
            "image/png": "[encoded data removed]",
            "text/plain": [
              "<Figure size 432x288 with 1 Axes>"
            ]
          },
          "metadata": {
            "tags": []
          }
        }
      ]
    },
    {
      "cell_type": "code",
      "metadata": {
        "id": "bwNscnOGjxbf",
        "colab_type": "code",
        "outputId": "c9106a6f-48bd-4248-c324-1f75513802bc",
        "colab": {
          "base_uri": "https://localhost:8080/",
          "height": 280
        }
      },
      "source": [
        "ax = sns.distplot(bcdata['texture_mean'], color='magenta')"
      ],
      "execution_count": 0,
      "outputs": [
        {
          "output_type": "display_data",
          "data": {
            "image/png": "[encoded data removed]",
            "text/plain": [
              "<Figure size 432x288 with 1 Axes>"
            ]
          },
          "metadata": {
            "tags": []
          }
        }
      ]
    },
    {
      "cell_type": "code",
      "metadata": {
        "id": "cNIaaduVj5GY",
        "colab_type": "code",
        "outputId": "60fbb371-b04e-4feb-f5e7-4ce114a6257f",
        "colab": {
          "base_uri": "https://localhost:8080/",
          "height": 280
        }
      },
      "source": [
        "ax = sns.distplot(bcdata['perimeter_mean'], color='magenta')"
      ],
      "execution_count": 0,
      "outputs": [
        {
          "output_type": "display_data",
          "data": {
            "image/png": "[encoded data removed]",
            "text/plain": [
              "<Figure size 432x288 with 1 Axes>"
            ]
          },
          "metadata": {
            "tags": []
          }
        }
      ]
    },
    {
      "cell_type": "markdown",
      "metadata": {
        "id": "530hA3HkGnpn",
        "colab_type": "text"
      },
      "source": [
        "Make swarmplots for radius_mean, texture_mean and perimeter_mean. Note the considerable number of outliers displayed in all three graphs. "
      ]
    },
    {
      "cell_type": "code",
      "metadata": {
        "id": "YrV1o9ByLT6l",
        "colab_type": "code",
        "outputId": "ac0902f4-e64a-454f-d226-783f0e4f46d1",
        "colab": {
          "base_uri": "https://localhost:8080/",
          "height": 299
        }
      },
      "source": [
        "sns.swarmplot(bcdata['radius_mean'], color='magenta')"
      ],
      "execution_count": 0,
      "outputs": [
        {
          "output_type": "execute_result",
          "data": {
            "text/plain": [
              "<matplotlib.axes._subplots.AxesSubplot at 0x7f2c7a85b940>"
            ]
          },
          "metadata": {
            "tags": []
          },
          "execution_count": 17
        },
        {
          "output_type": "display_data",
          "data": {
            "image/png": "[encoded data removed]",
            "text/plain": [
              "<Figure size 432x288 with 1 Axes>"
            ]
          },
          "metadata": {
            "tags": []
          }
        }
      ]
    },
    {
      "cell_type": "code",
      "metadata": {
        "id": "JiTniGIHLK84",
        "colab_type": "code",
        "outputId": "238a07fe-e7f0-4de7-9551-0bc749fc893d",
        "colab": {
          "base_uri": "https://localhost:8080/",
          "height": 299
        }
      },
      "source": [
        "sns.swarmplot(bcdata['texture_mean'], color='magenta')"
      ],
      "execution_count": 0,
      "outputs": [
        {
          "output_type": "execute_result",
          "data": {
            "text/plain": [
              "<matplotlib.axes._subplots.AxesSubplot at 0x7f2c7a1b1978>"
            ]
          },
          "metadata": {
            "tags": []
          },
          "execution_count": 18
        },
        {
          "output_type": "display_data",
          "data": {
            "image/png": "[encoded data removed]",
            "text/plain": [
              "<Figure size 432x288 with 1 Axes>"
            ]
          },
          "metadata": {
            "tags": []
          }
        }
      ]
    },
    {
      "cell_type": "code",
      "metadata": {
        "id": "9PsWp7ZKL08j",
        "colab_type": "code",
        "outputId": "98a06bff-cb81-4ba7-bc30-e60cada8a942",
        "colab": {
          "base_uri": "https://localhost:8080/",
          "height": 299
        }
      },
      "source": [
        "sns.swarmplot(bcdata['perimeter_mean'], color='magenta')"
      ],
      "execution_count": 0,
      "outputs": [
        {
          "output_type": "execute_result",
          "data": {
            "text/plain": [
              "<matplotlib.axes._subplots.AxesSubplot at 0x7f2c77969390>"
            ]
          },
          "metadata": {
            "tags": []
          },
          "execution_count": 19
        },
        {
          "output_type": "display_data",
          "data": {
            "image/png": "[encoded data removed]",
            "text/plain": [
              "<Figure size 432x288 with 1 Axes>"
            ]
          },
          "metadata": {
            "tags": []
          }
        }
      ]
    },
    {
      "cell_type": "markdown",
      "metadata": {
        "id": "7vHyghGpHE0u",
        "colab_type": "text"
      },
      "source": [
        "Do a shapiro test for radius_mean, texture_mean and perimeter_mean. All 3 variables return a W value close to 1. Unfortunately all three variables spectacularly fail the Shapiro test for normality because their p-values returned are all way below the 0.05 threshold. All three variables will be considered non-normal. I have decided to t-test all 3 of them anyway to see those results but not be using t-test results in the final analysis.\n",
        " "
      ]
    },
    {
      "cell_type": "code",
      "metadata": {
        "id": "iAiGcMz8o3fD",
        "colab_type": "code",
        "outputId": "9f02f075-b115-4322-e464-6c3567b9be69",
        "colab": {
          "base_uri": "https://localhost:8080/",
          "height": 36
        }
      },
      "source": [
        "stats.shapiro(bcdata['radius_mean'])"
      ],
      "execution_count": 0,
      "outputs": [
        {
          "output_type": "execute_result",
          "data": {
            "text/plain": [
              "(0.9410696029663086, 3.1061551985026026e-14)"
            ]
          },
          "metadata": {
            "tags": []
          },
          "execution_count": 20
        }
      ]
    },
    {
      "cell_type": "code",
      "metadata": {
        "id": "41WgAfjto3fK",
        "colab_type": "code",
        "outputId": "51d99ae6-b932-420e-97b0-dc12ad9452db",
        "colab": {
          "base_uri": "https://localhost:8080/",
          "height": 36
        }
      },
      "source": [
        "stats.shapiro(bcdata['texture_mean'])"
      ],
      "execution_count": 0,
      "outputs": [
        {
          "output_type": "execute_result",
          "data": {
            "text/plain": [
              "(0.9767200946807861, 7.281473557441132e-08)"
            ]
          },
          "metadata": {
            "tags": []
          },
          "execution_count": 21
        }
      ]
    },
    {
      "cell_type": "code",
      "metadata": {
        "id": "YY94cUcwo3fP",
        "colab_type": "code",
        "outputId": "56590e5b-8a87-4688-bf76-68311f48200c",
        "colab": {
          "base_uri": "https://localhost:8080/",
          "height": 36
        }
      },
      "source": [
        "stats.shapiro(bcdata['perimeter_mean'])"
      ],
      "execution_count": 0,
      "outputs": [
        {
          "output_type": "execute_result",
          "data": {
            "text/plain": [
              "(0.9361826181411743, 7.01163031715385e-15)"
            ]
          },
          "metadata": {
            "tags": []
          },
          "execution_count": 22
        }
      ]
    },
    {
      "cell_type": "markdown",
      "metadata": {
        "id": "AbI9ACgTJMP8",
        "colab_type": "text"
      },
      "source": [
        "Even though radius_mean, texture_mean and perimeter_mean all failed the shapiro test. Their skew and kurtosis are all in a decent range with kurtosis being well under +/-2.5 and skew under +/- 1.5. That makes a pretty good case for normality. I suspect the outliers that were spotted in the swarmplots and will show up elsewhere here and the fact that these are fairly small datasets that the shapiro tests were failed."
      ]
    },
    {
      "cell_type": "code",
      "metadata": {
        "id": "hRASCvc0o3fU",
        "colab_type": "code",
        "outputId": "b7d24158-1ff8-4ded-b2bb-80f6865aeb5e",
        "colab": {
          "base_uri": "https://localhost:8080/",
          "height": 93
        }
      },
      "source": [
        "print(stats.describe(bcdata['radius_mean']))\n",
        "print(stats.describe(bcdata['texture_mean']))\n",
        "print(stats.describe(bcdata['perimeter_mean']))\n"
      ],
      "execution_count": 0,
      "outputs": [
        {
          "output_type": "stream",
          "text": [
            "DescribeResult(nobs=569, minmax=(6.981, 28.11), mean=14.127291739894552, variance=12.418920129526722, skewness=0.9398934455576345, kurtosis=0.8275836739140465)\n",
            "DescribeResult(nobs=569, minmax=(9.71, 39.28), mean=19.289648506151142, variance=18.49890867905146, skewness=0.6487335672867015, kurtosis=0.74114542022429)\n",
            "DescribeResult(nobs=569, minmax=(43.79, 188.5), mean=91.96903339191564, variance=590.4404795217704, skewness=0.9880369541677213, kurtosis=0.9531650486734948)\n"
          ],
          "name": "stdout"
        }
      ]
    },
    {
      "cell_type": "markdown",
      "metadata": {
        "id": "NaoFfv0pKUo-",
        "colab_type": "text"
      },
      "source": [
        "Boxplot radius_mean, texture_mean and perimeter mean and compare the data in the malignant versus benign samples. Notable here is the outliers a good distance from the means. Also in all 3 cases the means of malignant sample are significantly larger than the benign sample.\n"
      ]
    },
    {
      "cell_type": "code",
      "metadata": {
        "id": "1N9ohP_0-9OD",
        "colab_type": "code",
        "outputId": "96242eea-fb39-437f-e624-48a89fa971db",
        "colab": {
          "base_uri": "https://localhost:8080/",
          "height": 439
        }
      },
      "source": [
        "bcdata.boxplot('radius_mean', by='diagnosis', figsize=(10, 6))"
      ],
      "execution_count": 0,
      "outputs": [
        {
          "output_type": "execute_result",
          "data": {
            "text/plain": [
              "<matplotlib.axes._subplots.AxesSubplot at 0x7f2c778d7860>"
            ]
          },
          "metadata": {
            "tags": []
          },
          "execution_count": 24
        },
        {
          "output_type": "display_data",
          "data": {
            "image/png": "[encoded data removed]",
            "text/plain": [
              "<Figure size 720x432 with 1 Axes>"
            ]
          },
          "metadata": {
            "tags": []
          }
        }
      ]
    },
    {
      "cell_type": "code",
      "metadata": {
        "id": "14J7akUx_nnu",
        "colab_type": "code",
        "outputId": "c439b7fb-df13-4e99-eab3-4e6f7b7b14fb",
        "colab": {
          "base_uri": "https://localhost:8080/",
          "height": 439
        }
      },
      "source": [
        "bcdata.boxplot('texture_mean', by='diagnosis', figsize=(10, 6))"
      ],
      "execution_count": 0,
      "outputs": [
        {
          "output_type": "execute_result",
          "data": {
            "text/plain": [
              "<matplotlib.axes._subplots.AxesSubplot at 0x7f2c7786d358>"
            ]
          },
          "metadata": {
            "tags": []
          },
          "execution_count": 25
        },
        {
          "output_type": "display_data",
          "data": {
            "image/png": "[encoded data removed]",
            "text/plain": [
              "<Figure size 720x432 with 1 Axes>"
            ]
          },
          "metadata": {
            "tags": []
          }
        }
      ]
    },
    {
      "cell_type": "code",
      "metadata": {
        "id": "oS0nPzeO_zW4",
        "colab_type": "code",
        "outputId": "13ce2785-8d21-443b-c68c-fc2319f231a7",
        "colab": {
          "base_uri": "https://localhost:8080/",
          "height": 439
        }
      },
      "source": [
        "bcdata.boxplot('perimeter_mean', by='diagnosis', figsize=(10, 6))"
      ],
      "execution_count": 0,
      "outputs": [
        {
          "output_type": "execute_result",
          "data": {
            "text/plain": [
              "<matplotlib.axes._subplots.AxesSubplot at 0x7f2c77814da0>"
            ]
          },
          "metadata": {
            "tags": []
          },
          "execution_count": 26
        },
        {
          "output_type": "display_data",
          "data": {
            "image/png": "[encoded data removed]",
            "text/plain": [
              "<Figure size 720x432 with 1 Axes>"
            ]
          },
          "metadata": {
            "tags": []
          }
        }
      ]
    },
    {
      "cell_type": "markdown",
      "metadata": {
        "id": "-oKBtXBQLCLC",
        "colab_type": "text"
      },
      "source": [
        "Divide the data into two datasets Malignant and Benign. From here all comparisons will be between these two datasets. The AB test of this experiment will be the malignant versus the benign results. Is the malignant results for the 3 variables radius_mean, texture_mean and perimeter mean significantly different than the benign results. If they are significantly different this will point to these values being important features in determining if a sample is malignant or benign. If they are not then these values might not be useful for diagnostic purposes.  "
      ]
    },
    {
      "cell_type": "code",
      "metadata": {
        "id": "9QAtsbn-Q7I_",
        "colab_type": "code",
        "colab": {}
      },
      "source": [
        "bcdata_M = bcdata[bcdata['diagnosis']== 'M']\n",
        "\n",
        "bcdata_B = bcdata[bcdata['diagnosis']== 'B']\n"
      ],
      "execution_count": 0,
      "outputs": []
    },
    {
      "cell_type": "markdown",
      "metadata": {
        "id": "zVPrCFOsMWaD",
        "colab_type": "text"
      },
      "source": [
        "There are 212 Malignant results and 357 Benign results."
      ]
    },
    {
      "cell_type": "code",
      "metadata": {
        "id": "95WKTy92F9Nm",
        "colab_type": "code",
        "outputId": "2352de98-beb5-4a4b-f6bb-f613af38e545",
        "colab": {
          "base_uri": "https://localhost:8080/",
          "height": 36
        }
      },
      "source": [
        "len(bcdata_M)"
      ],
      "execution_count": 0,
      "outputs": [
        {
          "output_type": "execute_result",
          "data": {
            "text/plain": [
              "212"
            ]
          },
          "metadata": {
            "tags": []
          },
          "execution_count": 28
        }
      ]
    },
    {
      "cell_type": "code",
      "metadata": {
        "id": "LHuZG1XdGNcb",
        "colab_type": "code",
        "outputId": "0377f83a-c73b-4a89-c131-bd769297ac3b",
        "colab": {
          "base_uri": "https://localhost:8080/",
          "height": 36
        }
      },
      "source": [
        "len(bcdata_B)"
      ],
      "execution_count": 0,
      "outputs": [
        {
          "output_type": "execute_result",
          "data": {
            "text/plain": [
              "357"
            ]
          },
          "metadata": {
            "tags": []
          },
          "execution_count": 29
        }
      ]
    },
    {
      "cell_type": "markdown",
      "metadata": {
        "id": "hhOYpDozMf1W",
        "colab_type": "text"
      },
      "source": [
        "Another peak at the malignant and benign datasets."
      ]
    },
    {
      "cell_type": "code",
      "metadata": {
        "id": "jCUMSwz8RQyp",
        "colab_type": "code",
        "outputId": "55202fe1-33bd-4f22-e604-0a351c8ac2f0",
        "colab": {
          "base_uri": "https://localhost:8080/",
          "height": 244
        }
      },
      "source": [
        "bcdata_M.head()"
      ],
      "execution_count": 0,
      "outputs": [
        {
          "output_type": "execute_result",
          "data": {
            "text/html": [
              "<div>\n",
              "<style scoped>\n",
              "    .dataframe tbody tr th:only-of-type {\n",
              "        vertical-align: middle;\n",
              "    }\n",
              "\n",
              "    .dataframe tbody tr th {\n",
              "        vertical-align: top;\n",
              "    }\n",
              "\n",
              "    .dataframe thead th {\n",
              "        text-align: right;\n",
              "    }\n",
              "</style>\n",
              "<table border=\"1\" class=\"dataframe\">\n",
              "  <thead>\n",
              "    <tr style=\"text-align: right;\">\n",
              "      <th></th>\n",
              "      <th>id</th>\n",
              "      <th>diagnosis</th>\n",
              "      <th>radius_mean</th>\n",
              "      <th>texture_mean</th>\n",
              "      <th>perimeter_mean</th>\n",
              "      <th>area_mean</th>\n",
              "      <th>smoothness_mean</th>\n",
              "      <th>compactness_mean</th>\n",
              "      <th>concavity_mean</th>\n",
              "      <th>concave points_mean</th>\n",
              "      <th>symmetry_mean</th>\n",
              "      <th>fractal_dimension_mean</th>\n",
              "      <th>radius_se</th>\n",
              "      <th>texture_se</th>\n",
              "      <th>perimeter_se</th>\n",
              "      <th>area_se</th>\n",
              "      <th>smoothness_se</th>\n",
              "      <th>compactness_se</th>\n",
              "      <th>concavity_se</th>\n",
              "      <th>concave points_se</th>\n",
              "      <th>symmetry_se</th>\n",
              "      <th>fractal_dimension_se</th>\n",
              "      <th>radius_worst</th>\n",
              "      <th>texture_worst</th>\n",
              "      <th>perimeter_worst</th>\n",
              "      <th>area_worst</th>\n",
              "      <th>smoothness_worst</th>\n",
              "      <th>compactness_worst</th>\n",
              "      <th>concavity_worst</th>\n",
              "      <th>concave points_worst</th>\n",
              "      <th>symmetry_worst</th>\n",
              "      <th>fractal_dimension_worst</th>\n",
              "      <th>Unnamed: 32</th>\n",
              "    </tr>\n",
              "  </thead>\n",
              "  <tbody>\n",
              "    <tr>\n",
              "      <th>0</th>\n",
              "      <td>842302</td>\n",
              "      <td>M</td>\n",
              "      <td>17.99</td>\n",
              "      <td>10.38</td>\n",
              "      <td>122.80</td>\n",
              "      <td>1001.0</td>\n",
              "      <td>0.11840</td>\n",
              "      <td>0.27760</td>\n",
              "      <td>0.3001</td>\n",
              "      <td>0.14710</td>\n",
              "      <td>0.2419</td>\n",
              "      <td>0.07871</td>\n",
              "      <td>1.0950</td>\n",
              "      <td>0.9053</td>\n",
              "      <td>8.589</td>\n",
              "      <td>153.40</td>\n",
              "      <td>0.006399</td>\n",
              "      <td>0.04904</td>\n",
              "      <td>0.05373</td>\n",
              "      <td>0.01587</td>\n",
              "      <td>0.03003</td>\n",
              "      <td>0.006193</td>\n",
              "      <td>25.38</td>\n",
              "      <td>17.33</td>\n",
              "      <td>184.60</td>\n",
              "      <td>2019.0</td>\n",
              "      <td>0.1622</td>\n",
              "      <td>0.6656</td>\n",
              "      <td>0.7119</td>\n",
              "      <td>0.2654</td>\n",
              "      <td>0.4601</td>\n",
              "      <td>0.11890</td>\n",
              "      <td>NaN</td>\n",
              "    </tr>\n",
              "    <tr>\n",
              "      <th>1</th>\n",
              "      <td>842517</td>\n",
              "      <td>M</td>\n",
              "      <td>20.57</td>\n",
              "      <td>17.77</td>\n",
              "      <td>132.90</td>\n",
              "      <td>1326.0</td>\n",
              "      <td>0.08474</td>\n",
              "      <td>0.07864</td>\n",
              "      <td>0.0869</td>\n",
              "      <td>0.07017</td>\n",
              "      <td>0.1812</td>\n",
              "      <td>0.05667</td>\n",
              "      <td>0.5435</td>\n",
              "      <td>0.7339</td>\n",
              "      <td>3.398</td>\n",
              "      <td>74.08</td>\n",
              "      <td>0.005225</td>\n",
              "      <td>0.01308</td>\n",
              "      <td>0.01860</td>\n",
              "      <td>0.01340</td>\n",
              "      <td>0.01389</td>\n",
              "      <td>0.003532</td>\n",
              "      <td>24.99</td>\n",
              "      <td>23.41</td>\n",
              "      <td>158.80</td>\n",
              "      <td>1956.0</td>\n",
              "      <td>0.1238</td>\n",
              "      <td>0.1866</td>\n",
              "      <td>0.2416</td>\n",
              "      <td>0.1860</td>\n",
              "      <td>0.2750</td>\n",
              "      <td>0.08902</td>\n",
              "      <td>NaN</td>\n",
              "    </tr>\n",
              "    <tr>\n",
              "      <th>2</th>\n",
              "      <td>84300903</td>\n",
              "      <td>M</td>\n",
              "      <td>19.69</td>\n",
              "      <td>21.25</td>\n",
              "      <td>130.00</td>\n",
              "      <td>1203.0</td>\n",
              "      <td>0.10960</td>\n",
              "      <td>0.15990</td>\n",
              "      <td>0.1974</td>\n",
              "      <td>0.12790</td>\n",
              "      <td>0.2069</td>\n",
              "      <td>0.05999</td>\n",
              "      <td>0.7456</td>\n",
              "      <td>0.7869</td>\n",
              "      <td>4.585</td>\n",
              "      <td>94.03</td>\n",
              "      <td>0.006150</td>\n",
              "      <td>0.04006</td>\n",
              "      <td>0.03832</td>\n",
              "      <td>0.02058</td>\n",
              "      <td>0.02250</td>\n",
              "      <td>0.004571</td>\n",
              "      <td>23.57</td>\n",
              "      <td>25.53</td>\n",
              "      <td>152.50</td>\n",
              "      <td>1709.0</td>\n",
              "      <td>0.1444</td>\n",
              "      <td>0.4245</td>\n",
              "      <td>0.4504</td>\n",
              "      <td>0.2430</td>\n",
              "      <td>0.3613</td>\n",
              "      <td>0.08758</td>\n",
              "      <td>NaN</td>\n",
              "    </tr>\n",
              "    <tr>\n",
              "      <th>3</th>\n",
              "      <td>84348301</td>\n",
              "      <td>M</td>\n",
              "      <td>11.42</td>\n",
              "      <td>20.38</td>\n",
              "      <td>77.58</td>\n",
              "      <td>386.1</td>\n",
              "      <td>0.14250</td>\n",
              "      <td>0.28390</td>\n",
              "      <td>0.2414</td>\n",
              "      <td>0.10520</td>\n",
              "      <td>0.2597</td>\n",
              "      <td>0.09744</td>\n",
              "      <td>0.4956</td>\n",
              "      <td>1.1560</td>\n",
              "      <td>3.445</td>\n",
              "      <td>27.23</td>\n",
              "      <td>0.009110</td>\n",
              "      <td>0.07458</td>\n",
              "      <td>0.05661</td>\n",
              "      <td>0.01867</td>\n",
              "      <td>0.05963</td>\n",
              "      <td>0.009208</td>\n",
              "      <td>14.91</td>\n",
              "      <td>26.50</td>\n",
              "      <td>98.87</td>\n",
              "      <td>567.7</td>\n",
              "      <td>0.2098</td>\n",
              "      <td>0.8663</td>\n",
              "      <td>0.6869</td>\n",
              "      <td>0.2575</td>\n",
              "      <td>0.6638</td>\n",
              "      <td>0.17300</td>\n",
              "      <td>NaN</td>\n",
              "    </tr>\n",
              "    <tr>\n",
              "      <th>4</th>\n",
              "      <td>84358402</td>\n",
              "      <td>M</td>\n",
              "      <td>20.29</td>\n",
              "      <td>14.34</td>\n",
              "      <td>135.10</td>\n",
              "      <td>1297.0</td>\n",
              "      <td>0.10030</td>\n",
              "      <td>0.13280</td>\n",
              "      <td>0.1980</td>\n",
              "      <td>0.10430</td>\n",
              "      <td>0.1809</td>\n",
              "      <td>0.05883</td>\n",
              "      <td>0.7572</td>\n",
              "      <td>0.7813</td>\n",
              "      <td>5.438</td>\n",
              "      <td>94.44</td>\n",
              "      <td>0.011490</td>\n",
              "      <td>0.02461</td>\n",
              "      <td>0.05688</td>\n",
              "      <td>0.01885</td>\n",
              "      <td>0.01756</td>\n",
              "      <td>0.005115</td>\n",
              "      <td>22.54</td>\n",
              "      <td>16.67</td>\n",
              "      <td>152.20</td>\n",
              "      <td>1575.0</td>\n",
              "      <td>0.1374</td>\n",
              "      <td>0.2050</td>\n",
              "      <td>0.4000</td>\n",
              "      <td>0.1625</td>\n",
              "      <td>0.2364</td>\n",
              "      <td>0.07678</td>\n",
              "      <td>NaN</td>\n",
              "    </tr>\n",
              "  </tbody>\n",
              "</table>\n",
              "</div>"
            ],
            "text/plain": [
              "         id diagnosis  ...  fractal_dimension_worst  Unnamed: 32\n",
              "0    842302         M  ...                  0.11890          NaN\n",
              "1    842517         M  ...                  0.08902          NaN\n",
              "2  84300903         M  ...                  0.08758          NaN\n",
              "3  84348301         M  ...                  0.17300          NaN\n",
              "4  84358402         M  ...                  0.07678          NaN\n",
              "\n",
              "[5 rows x 33 columns]"
            ]
          },
          "metadata": {
            "tags": []
          },
          "execution_count": 30
        }
      ]
    },
    {
      "cell_type": "code",
      "metadata": {
        "id": "XSXJjAZwRYgT",
        "colab_type": "code",
        "outputId": "2630e71c-50c8-4c90-bfa0-950e7af0dda7",
        "colab": {
          "base_uri": "https://localhost:8080/",
          "height": 244
        }
      },
      "source": [
        "bcdata_B.head()"
      ],
      "execution_count": 0,
      "outputs": [
        {
          "output_type": "execute_result",
          "data": {
            "text/html": [
              "<div>\n",
              "<style scoped>\n",
              "    .dataframe tbody tr th:only-of-type {\n",
              "        vertical-align: middle;\n",
              "    }\n",
              "\n",
              "    .dataframe tbody tr th {\n",
              "        vertical-align: top;\n",
              "    }\n",
              "\n",
              "    .dataframe thead th {\n",
              "        text-align: right;\n",
              "    }\n",
              "</style>\n",
              "<table border=\"1\" class=\"dataframe\">\n",
              "  <thead>\n",
              "    <tr style=\"text-align: right;\">\n",
              "      <th></th>\n",
              "      <th>id</th>\n",
              "      <th>diagnosis</th>\n",
              "      <th>radius_mean</th>\n",
              "      <th>texture_mean</th>\n",
              "      <th>perimeter_mean</th>\n",
              "      <th>area_mean</th>\n",
              "      <th>smoothness_mean</th>\n",
              "      <th>compactness_mean</th>\n",
              "      <th>concavity_mean</th>\n",
              "      <th>concave points_mean</th>\n",
              "      <th>symmetry_mean</th>\n",
              "      <th>fractal_dimension_mean</th>\n",
              "      <th>radius_se</th>\n",
              "      <th>texture_se</th>\n",
              "      <th>perimeter_se</th>\n",
              "      <th>area_se</th>\n",
              "      <th>smoothness_se</th>\n",
              "      <th>compactness_se</th>\n",
              "      <th>concavity_se</th>\n",
              "      <th>concave points_se</th>\n",
              "      <th>symmetry_se</th>\n",
              "      <th>fractal_dimension_se</th>\n",
              "      <th>radius_worst</th>\n",
              "      <th>texture_worst</th>\n",
              "      <th>perimeter_worst</th>\n",
              "      <th>area_worst</th>\n",
              "      <th>smoothness_worst</th>\n",
              "      <th>compactness_worst</th>\n",
              "      <th>concavity_worst</th>\n",
              "      <th>concave points_worst</th>\n",
              "      <th>symmetry_worst</th>\n",
              "      <th>fractal_dimension_worst</th>\n",
              "      <th>Unnamed: 32</th>\n",
              "    </tr>\n",
              "  </thead>\n",
              "  <tbody>\n",
              "    <tr>\n",
              "      <th>19</th>\n",
              "      <td>8510426</td>\n",
              "      <td>B</td>\n",
              "      <td>13.540</td>\n",
              "      <td>14.36</td>\n",
              "      <td>87.46</td>\n",
              "      <td>566.3</td>\n",
              "      <td>0.09779</td>\n",
              "      <td>0.08129</td>\n",
              "      <td>0.06664</td>\n",
              "      <td>0.047810</td>\n",
              "      <td>0.1885</td>\n",
              "      <td>0.05766</td>\n",
              "      <td>0.2699</td>\n",
              "      <td>0.7886</td>\n",
              "      <td>2.058</td>\n",
              "      <td>23.560</td>\n",
              "      <td>0.008462</td>\n",
              "      <td>0.014600</td>\n",
              "      <td>0.02387</td>\n",
              "      <td>0.013150</td>\n",
              "      <td>0.01980</td>\n",
              "      <td>0.002300</td>\n",
              "      <td>15.110</td>\n",
              "      <td>19.26</td>\n",
              "      <td>99.70</td>\n",
              "      <td>711.2</td>\n",
              "      <td>0.14400</td>\n",
              "      <td>0.17730</td>\n",
              "      <td>0.23900</td>\n",
              "      <td>0.12880</td>\n",
              "      <td>0.2977</td>\n",
              "      <td>0.07259</td>\n",
              "      <td>NaN</td>\n",
              "    </tr>\n",
              "    <tr>\n",
              "      <th>20</th>\n",
              "      <td>8510653</td>\n",
              "      <td>B</td>\n",
              "      <td>13.080</td>\n",
              "      <td>15.71</td>\n",
              "      <td>85.63</td>\n",
              "      <td>520.0</td>\n",
              "      <td>0.10750</td>\n",
              "      <td>0.12700</td>\n",
              "      <td>0.04568</td>\n",
              "      <td>0.031100</td>\n",
              "      <td>0.1967</td>\n",
              "      <td>0.06811</td>\n",
              "      <td>0.1852</td>\n",
              "      <td>0.7477</td>\n",
              "      <td>1.383</td>\n",
              "      <td>14.670</td>\n",
              "      <td>0.004097</td>\n",
              "      <td>0.018980</td>\n",
              "      <td>0.01698</td>\n",
              "      <td>0.006490</td>\n",
              "      <td>0.01678</td>\n",
              "      <td>0.002425</td>\n",
              "      <td>14.500</td>\n",
              "      <td>20.49</td>\n",
              "      <td>96.09</td>\n",
              "      <td>630.5</td>\n",
              "      <td>0.13120</td>\n",
              "      <td>0.27760</td>\n",
              "      <td>0.18900</td>\n",
              "      <td>0.07283</td>\n",
              "      <td>0.3184</td>\n",
              "      <td>0.08183</td>\n",
              "      <td>NaN</td>\n",
              "    </tr>\n",
              "    <tr>\n",
              "      <th>21</th>\n",
              "      <td>8510824</td>\n",
              "      <td>B</td>\n",
              "      <td>9.504</td>\n",
              "      <td>12.44</td>\n",
              "      <td>60.34</td>\n",
              "      <td>273.9</td>\n",
              "      <td>0.10240</td>\n",
              "      <td>0.06492</td>\n",
              "      <td>0.02956</td>\n",
              "      <td>0.020760</td>\n",
              "      <td>0.1815</td>\n",
              "      <td>0.06905</td>\n",
              "      <td>0.2773</td>\n",
              "      <td>0.9768</td>\n",
              "      <td>1.909</td>\n",
              "      <td>15.700</td>\n",
              "      <td>0.009606</td>\n",
              "      <td>0.014320</td>\n",
              "      <td>0.01985</td>\n",
              "      <td>0.014210</td>\n",
              "      <td>0.02027</td>\n",
              "      <td>0.002968</td>\n",
              "      <td>10.230</td>\n",
              "      <td>15.66</td>\n",
              "      <td>65.13</td>\n",
              "      <td>314.9</td>\n",
              "      <td>0.13240</td>\n",
              "      <td>0.11480</td>\n",
              "      <td>0.08867</td>\n",
              "      <td>0.06227</td>\n",
              "      <td>0.2450</td>\n",
              "      <td>0.07773</td>\n",
              "      <td>NaN</td>\n",
              "    </tr>\n",
              "    <tr>\n",
              "      <th>37</th>\n",
              "      <td>854941</td>\n",
              "      <td>B</td>\n",
              "      <td>13.030</td>\n",
              "      <td>18.42</td>\n",
              "      <td>82.61</td>\n",
              "      <td>523.8</td>\n",
              "      <td>0.08983</td>\n",
              "      <td>0.03766</td>\n",
              "      <td>0.02562</td>\n",
              "      <td>0.029230</td>\n",
              "      <td>0.1467</td>\n",
              "      <td>0.05863</td>\n",
              "      <td>0.1839</td>\n",
              "      <td>2.3420</td>\n",
              "      <td>1.170</td>\n",
              "      <td>14.160</td>\n",
              "      <td>0.004352</td>\n",
              "      <td>0.004899</td>\n",
              "      <td>0.01343</td>\n",
              "      <td>0.011640</td>\n",
              "      <td>0.02671</td>\n",
              "      <td>0.001777</td>\n",
              "      <td>13.300</td>\n",
              "      <td>22.81</td>\n",
              "      <td>84.46</td>\n",
              "      <td>545.9</td>\n",
              "      <td>0.09701</td>\n",
              "      <td>0.04619</td>\n",
              "      <td>0.04833</td>\n",
              "      <td>0.05013</td>\n",
              "      <td>0.1987</td>\n",
              "      <td>0.06169</td>\n",
              "      <td>NaN</td>\n",
              "    </tr>\n",
              "    <tr>\n",
              "      <th>46</th>\n",
              "      <td>85713702</td>\n",
              "      <td>B</td>\n",
              "      <td>8.196</td>\n",
              "      <td>16.84</td>\n",
              "      <td>51.71</td>\n",
              "      <td>201.9</td>\n",
              "      <td>0.08600</td>\n",
              "      <td>0.05943</td>\n",
              "      <td>0.01588</td>\n",
              "      <td>0.005917</td>\n",
              "      <td>0.1769</td>\n",
              "      <td>0.06503</td>\n",
              "      <td>0.1563</td>\n",
              "      <td>0.9567</td>\n",
              "      <td>1.094</td>\n",
              "      <td>8.205</td>\n",
              "      <td>0.008968</td>\n",
              "      <td>0.016460</td>\n",
              "      <td>0.01588</td>\n",
              "      <td>0.005917</td>\n",
              "      <td>0.02574</td>\n",
              "      <td>0.002582</td>\n",
              "      <td>8.964</td>\n",
              "      <td>21.96</td>\n",
              "      <td>57.26</td>\n",
              "      <td>242.2</td>\n",
              "      <td>0.12970</td>\n",
              "      <td>0.13570</td>\n",
              "      <td>0.06880</td>\n",
              "      <td>0.02564</td>\n",
              "      <td>0.3105</td>\n",
              "      <td>0.07409</td>\n",
              "      <td>NaN</td>\n",
              "    </tr>\n",
              "  </tbody>\n",
              "</table>\n",
              "</div>"
            ],
            "text/plain": [
              "          id diagnosis  ...  fractal_dimension_worst  Unnamed: 32\n",
              "19   8510426         B  ...                  0.07259          NaN\n",
              "20   8510653         B  ...                  0.08183          NaN\n",
              "21   8510824         B  ...                  0.07773          NaN\n",
              "37    854941         B  ...                  0.06169          NaN\n",
              "46  85713702         B  ...                  0.07409          NaN\n",
              "\n",
              "[5 rows x 33 columns]"
            ]
          },
          "metadata": {
            "tags": []
          },
          "execution_count": 31
        }
      ]
    },
    {
      "cell_type": "markdown",
      "metadata": {
        "id": "SuR4fl-zM-7M",
        "colab_type": "text"
      },
      "source": [
        "Plot the histograms of radius_mean, texture_mean and perimeter mean divided up into the malignant and benign datasets. A couple of plataeus noticed on the malignant datasets.\n"
      ]
    },
    {
      "cell_type": "code",
      "metadata": {
        "id": "e4wGc2r5ajXs",
        "colab_type": "code",
        "outputId": "d4787715-d92e-4cf4-8bc3-fafb129b6ce4",
        "colab": {
          "base_uri": "https://localhost:8080/",
          "height": 280
        }
      },
      "source": [
        "ax = sns.distplot(bcdata_M['radius_mean'], color='magenta')"
      ],
      "execution_count": 0,
      "outputs": [
        {
          "output_type": "display_data",
          "data": {
            "image/png": "[encoded data removed]",
            "text/plain": [
              "<Figure size 432x288 with 1 Axes>"
            ]
          },
          "metadata": {
            "tags": []
          }
        }
      ]
    },
    {
      "cell_type": "code",
      "metadata": {
        "id": "wyJNcLZhAyWn",
        "colab_type": "code",
        "outputId": "3c183722-a7f4-4422-910d-55f8431540df",
        "colab": {
          "base_uri": "https://localhost:8080/",
          "height": 280
        }
      },
      "source": [
        "ax = sns.distplot(bcdata_B['radius_mean'], color='magenta')"
      ],
      "execution_count": 0,
      "outputs": [
        {
          "output_type": "display_data",
          "data": {
            "image/png": "[encoded data removed]",
            "text/plain": [
              "<Figure size 432x288 with 1 Axes>"
            ]
          },
          "metadata": {
            "tags": []
          }
        }
      ]
    },
    {
      "cell_type": "code",
      "metadata": {
        "id": "qQZStYvJJ9Dc",
        "colab_type": "code",
        "outputId": "f888d814-3815-4d2b-8c40-ec7999437468",
        "colab": {
          "base_uri": "https://localhost:8080/",
          "height": 280
        }
      },
      "source": [
        "ax = sns.distplot(bcdata_M['texture_mean'], color='magenta')"
      ],
      "execution_count": 0,
      "outputs": [
        {
          "output_type": "display_data",
          "data": {
            "image/png": "[encoded data removed]",
            "text/plain": [
              "<Figure size 432x288 with 1 Axes>"
            ]
          },
          "metadata": {
            "tags": []
          }
        }
      ]
    },
    {
      "cell_type": "code",
      "metadata": {
        "id": "V7hDZ992bB0Y",
        "colab_type": "code",
        "outputId": "fcd75f5f-32b1-4820-9374-8a3ba9cb1004",
        "colab": {
          "base_uri": "https://localhost:8080/",
          "height": 283
        }
      },
      "source": [
        "ax = sns.distplot(bcdata_B['texture_mean'], color='magenta')"
      ],
      "execution_count": 0,
      "outputs": [
        {
          "output_type": "display_data",
          "data": {
            "image/png": "[encoded data removed]",
            "text/plain": [
              "<Figure size 432x288 with 1 Axes>"
            ]
          },
          "metadata": {
            "tags": []
          }
        }
      ]
    },
    {
      "cell_type": "code",
      "metadata": {
        "id": "82c7FuO_t3LG",
        "colab_type": "code",
        "outputId": "97d12606-0cda-4a24-a4f0-631c3447a0cb",
        "colab": {
          "base_uri": "https://localhost:8080/",
          "height": 280
        }
      },
      "source": [
        "ax = sns.distplot(bcdata_M['perimeter_mean'], color='magenta')"
      ],
      "execution_count": 0,
      "outputs": [
        {
          "output_type": "display_data",
          "data": {
            "image/png": "[encoded data removed]",
            "text/plain": [
              "<Figure size 432x288 with 1 Axes>"
            ]
          },
          "metadata": {
            "tags": []
          }
        }
      ]
    },
    {
      "cell_type": "code",
      "metadata": {
        "id": "KSlDYdvvt3YL",
        "colab_type": "code",
        "outputId": "27337652-6533-47de-b988-ecae6d0115ac",
        "colab": {
          "base_uri": "https://localhost:8080/",
          "height": 280
        }
      },
      "source": [
        "ax = sns.distplot(bcdata_B['perimeter_mean'], color='magenta')"
      ],
      "execution_count": 0,
      "outputs": [
        {
          "output_type": "display_data",
          "data": {
            "image/png": "[encoded data removed]",
            "text/plain": [
              "<Figure size 432x288 with 1 Axes>"
            ]
          },
          "metadata": {
            "tags": []
          }
        }
      ]
    },
    {
      "cell_type": "markdown",
      "metadata": {
        "id": "1kNrMYcLNkD9",
        "colab_type": "text"
      },
      "source": [
        "Six swarmplots show that all three variables and the malignant and benign datasets all have outliers a noticeable distance from the mean."
      ]
    },
    {
      "cell_type": "code",
      "metadata": {
        "id": "U7wVVv35MJ9Q",
        "colab_type": "code",
        "outputId": "7344e5be-6ac5-4622-b909-09d019d4fdc2",
        "colab": {
          "base_uri": "https://localhost:8080/",
          "height": 299
        }
      },
      "source": [
        "sns.swarmplot(bcdata_M['radius_mean'], color='magenta')"
      ],
      "execution_count": 0,
      "outputs": [
        {
          "output_type": "execute_result",
          "data": {
            "text/plain": [
              "<matplotlib.axes._subplots.AxesSubplot at 0x7f2c772a9cc0>"
            ]
          },
          "metadata": {
            "tags": []
          },
          "execution_count": 78
        },
        {
          "output_type": "display_data",
          "data": {
            "image/png": "[encoded data removed]",
            "text/plain": [
              "<Figure size 432x288 with 1 Axes>"
            ]
          },
          "metadata": {
            "tags": []
          }
        }
      ]
    },
    {
      "cell_type": "code",
      "metadata": {
        "id": "PKOjBhCJMaOv",
        "colab_type": "code",
        "outputId": "ccb17e99-852f-4a40-8ecf-e73da2d652c8",
        "colab": {
          "base_uri": "https://localhost:8080/",
          "height": 299
        }
      },
      "source": [
        "sns.swarmplot(bcdata_B['radius_mean'], color='magenta')"
      ],
      "execution_count": 0,
      "outputs": [
        {
          "output_type": "execute_result",
          "data": {
            "text/plain": [
              "<matplotlib.axes._subplots.AxesSubplot at 0x7f2c77218908>"
            ]
          },
          "metadata": {
            "tags": []
          },
          "execution_count": 79
        },
        {
          "output_type": "display_data",
          "data": {
            "image/png": "[encoded data removed]",
            "text/plain": [
              "<Figure size 432x288 with 1 Axes>"
            ]
          },
          "metadata": {
            "tags": []
          }
        }
      ]
    },
    {
      "cell_type": "code",
      "metadata": {
        "id": "rvjQL5TiOAdk",
        "colab_type": "code",
        "outputId": "0cc17c98-d609-41d3-d923-faa3c08388db",
        "colab": {
          "base_uri": "https://localhost:8080/",
          "height": 299
        }
      },
      "source": [
        "sns.swarmplot(bcdata_M['texture_mean'], color='magenta')"
      ],
      "execution_count": 0,
      "outputs": [
        {
          "output_type": "execute_result",
          "data": {
            "text/plain": [
              "<matplotlib.axes._subplots.AxesSubplot at 0x7f2c7732e668>"
            ]
          },
          "metadata": {
            "tags": []
          },
          "execution_count": 80
        },
        {
          "output_type": "display_data",
          "data": {
            "image/png": "[encoded data removed]",
            "text/plain": [
              "<Figure size 432x288 with 1 Axes>"
            ]
          },
          "metadata": {
            "tags": []
          }
        }
      ]
    },
    {
      "cell_type": "code",
      "metadata": {
        "id": "hUPislDJOItS",
        "colab_type": "code",
        "outputId": "7bad0958-f559-4774-89d5-b6c0ab2b8f5b",
        "colab": {
          "base_uri": "https://localhost:8080/",
          "height": 299
        }
      },
      "source": [
        "sns.swarmplot(bcdata_B['texture_mean'], color='magenta')"
      ],
      "execution_count": 0,
      "outputs": [
        {
          "output_type": "execute_result",
          "data": {
            "text/plain": [
              "<matplotlib.axes._subplots.AxesSubplot at 0x7f2c7739f860>"
            ]
          },
          "metadata": {
            "tags": []
          },
          "execution_count": 81
        },
        {
          "output_type": "display_data",
          "data": {
            "image/png": "[encoded data removed]",
            "text/plain": [
              "<Figure size 432x288 with 1 Axes>"
            ]
          },
          "metadata": {
            "tags": []
          }
        }
      ]
    },
    {
      "cell_type": "code",
      "metadata": {
        "id": "fWbeS3PRumHB",
        "colab_type": "code",
        "outputId": "286cd091-41bb-488f-b916-2d8482d073ca",
        "colab": {
          "base_uri": "https://localhost:8080/",
          "height": 299
        }
      },
      "source": [
        "sns.swarmplot(bcdata_M['perimeter_mean'], color='magenta')"
      ],
      "execution_count": 0,
      "outputs": [
        {
          "output_type": "execute_result",
          "data": {
            "text/plain": [
              "<matplotlib.axes._subplots.AxesSubplot at 0x7f2c9c1a6b38>"
            ]
          },
          "metadata": {
            "tags": []
          },
          "execution_count": 83
        },
        {
          "output_type": "display_data",
          "data": {
            "image/png": "[encoded data removed]",
            "text/plain": [
              "<Figure size 432x288 with 1 Axes>"
            ]
          },
          "metadata": {
            "tags": []
          }
        }
      ]
    },
    {
      "cell_type": "code",
      "metadata": {
        "id": "h6x-DqlxumfB",
        "colab_type": "code",
        "outputId": "927c3585-f08b-44ac-8c2a-db3009ad711d",
        "colab": {
          "base_uri": "https://localhost:8080/",
          "height": 299
        }
      },
      "source": [
        "sns.swarmplot(bcdata_B['perimeter_mean'], color='magenta')"
      ],
      "execution_count": 0,
      "outputs": [
        {
          "output_type": "execute_result",
          "data": {
            "text/plain": [
              "<matplotlib.axes._subplots.AxesSubplot at 0x7f2c7752a2b0>"
            ]
          },
          "metadata": {
            "tags": []
          },
          "execution_count": 84
        },
        {
          "output_type": "display_data",
          "data": {
            "image/png": "[encoded data removed]",
            "text/plain": [
              "<Figure size 432x288 with 1 Axes>"
            ]
          },
          "metadata": {
            "tags": []
          }
        }
      ]
    },
    {
      "cell_type": "markdown",
      "metadata": {
        "id": "wD2pebuYOCj_",
        "colab_type": "text"
      },
      "source": [
        "Again describe the data for all three variables in the 2 samples. The skew and kurtosis are all within range. The kurtosis for texture_mean in the malignant dataset is getting very close to out of range with a value of 2.29. But skew and kurtosis all indicate normalized data for both malignant and benign samples."
      ]
    },
    {
      "cell_type": "code",
      "metadata": {
        "id": "ScMcC-ThRrGO",
        "colab_type": "code",
        "outputId": "ad6d35ea-0ac3-4c42-bd28-766e34f00a3f",
        "colab": {
          "base_uri": "https://localhost:8080/",
          "height": 93
        }
      },
      "source": [
        "print(stats.describe(bcdata_M['radius_mean']))\n",
        "print(stats.describe(bcdata_M['texture_mean']))\n",
        "print(stats.describe(bcdata_M['perimeter_mean']))\n"
      ],
      "execution_count": 0,
      "outputs": [
        {
          "output_type": "stream",
          "text": [
            "DescribeResult(nobs=212, minmax=(10.95, 28.11), mean=17.462830188679245, variance=10.26543081462935, skewness=0.4983438269401485, kurtosis=0.33744620499587263)\n",
            "DescribeResult(nobs=212, minmax=(10.38, 39.28), mean=21.60490566037736, variance=14.284392882053115, skewness=0.6985549130264693, kurtosis=2.2951980794284896)\n",
            "DescribeResult(nobs=212, minmax=(71.9, 188.5), mean=115.36537735849056, variance=477.6258704730394, skewness=0.6006419795948119, kurtosis=0.5492077385280698)\n"
          ],
          "name": "stdout"
        }
      ]
    },
    {
      "cell_type": "code",
      "metadata": {
        "id": "2rsfXac1R6lX",
        "colab_type": "code",
        "outputId": "aa0fd334-c9e9-4382-b5ff-1c04b7e4b721",
        "colab": {
          "base_uri": "https://localhost:8080/",
          "height": 93
        }
      },
      "source": [
        "print(stats.describe(bcdata_B['radius_mean']))\n",
        "print(stats.describe(bcdata_B['texture_mean']))\n",
        "print(stats.describe(bcdata_B['perimeter_mean']))\n"
      ],
      "execution_count": 0,
      "outputs": [
        {
          "output_type": "stream",
          "text": [
            "DescribeResult(nobs=357, minmax=(6.981, 17.85), mean=12.146523809523808, variance=3.1702217220438738, skewness=-0.08344660198964896, kurtosis=-0.028871551594101152)\n",
            "DescribeResult(nobs=357, minmax=(9.71, 33.81), mean=17.914761904761903, variance=15.961020518994113, skewness=0.9772157090288104, kurtosis=1.1858758625694934)\n",
            "DescribeResult(nobs=357, minmax=(43.79, 114.6), mean=78.075406162465, variance=139.41558220816415, skewness=-0.06441193810264673, kurtosis=-0.03299354965402257)\n"
          ],
          "name": "stdout"
        }
      ]
    },
    {
      "cell_type": "markdown",
      "metadata": {
        "id": "zP3jCG0NOsNQ",
        "colab_type": "text"
      },
      "source": [
        "Here I test all three variables to the 2 datasets. In this case the malignant data all fail the shapiro test but the benign data pass the shapiro test easily. This is interesting. What is it about the malignant data that causes it to fail the normality test? "
      ]
    },
    {
      "cell_type": "markdown",
      "metadata": {
        "id": "RuVB9PEpxVQp",
        "colab_type": "text"
      },
      "source": [
        "Below I tested the number of unique values of each variable we are testing. There is some repeated values, but I do not think there are so many to severely throw off normality tests.\n"
      ]
    },
    {
      "cell_type": "code",
      "metadata": {
        "id": "avtUk-wafXN4",
        "colab_type": "code",
        "outputId": "94b75cd1-ff88-49d2-a558-7db210f11d3d",
        "colab": {
          "base_uri": "https://localhost:8080/",
          "height": 91
        }
      },
      "source": [
        "print(len(bcdata_M))\n",
        "print(bcdata_M.radius_mean.nunique())\n",
        "print(bcdata_M.texture_mean.nunique())\n",
        "print(bcdata_M.perimeter_mean.nunique())"
      ],
      "execution_count": 0,
      "outputs": [
        {
          "output_type": "stream",
          "text": [
            "212\n",
            "196\n",
            "199\n",
            "191\n"
          ],
          "name": "stdout"
        }
      ]
    },
    {
      "cell_type": "code",
      "metadata": {
        "id": "pOTtBLT8gk_T",
        "colab_type": "code",
        "outputId": "f1d0ac3f-ec9d-4566-c95d-f41a0dae6196",
        "colab": {
          "base_uri": "https://localhost:8080/",
          "height": 91
        }
      },
      "source": [
        "print(len(bcdata_B))\n",
        "print(bcdata_B.radius_mean.nunique())\n",
        "print(bcdata_B.texture_mean.nunique())\n",
        "print(bcdata_B.perimeter_mean.nunique())"
      ],
      "execution_count": 0,
      "outputs": [
        {
          "output_type": "stream",
          "text": [
            "357\n",
            "284\n",
            "311\n",
            "338\n"
          ],
          "name": "stdout"
        }
      ]
    },
    {
      "cell_type": "code",
      "metadata": {
        "id": "c7LlADLggeiI",
        "colab_type": "code",
        "colab": {}
      },
      "source": [
        "bcdata_M.radius_mean.nunique()bcdata_M.radius_mean.nunique()"
      ],
      "execution_count": 0,
      "outputs": []
    },
    {
      "cell_type": "code",
      "metadata": {
        "id": "GmE-BOuRTNK9",
        "colab_type": "code",
        "outputId": "cf01ec6f-632f-4c29-c278-c22194a3c127",
        "colab": {
          "base_uri": "https://localhost:8080/",
          "height": 36
        }
      },
      "source": [
        "stats.shapiro(bcdata_M['radius_mean'])"
      ],
      "execution_count": 0,
      "outputs": [
        {
          "output_type": "execute_result",
          "data": {
            "text/plain": [
              "(0.9776597619056702, 0.0018945835763588548)"
            ]
          },
          "metadata": {
            "tags": []
          },
          "execution_count": 44
        }
      ]
    },
    {
      "cell_type": "code",
      "metadata": {
        "id": "5aicXEmGTtNf",
        "colab_type": "code",
        "outputId": "b2ca30fb-76b3-4bb1-e77d-b7f59f604674",
        "colab": {
          "base_uri": "https://localhost:8080/",
          "height": 36
        }
      },
      "source": [
        "stats.shapiro(bcdata_M['texture_mean'])"
      ],
      "execution_count": 0,
      "outputs": [
        {
          "output_type": "execute_result",
          "data": {
            "text/plain": [
              "(0.9690946340560913, 0.00013415660941973329)"
            ]
          },
          "metadata": {
            "tags": []
          },
          "execution_count": 45
        }
      ]
    },
    {
      "cell_type": "code",
      "metadata": {
        "id": "lSfm1a4XTw3t",
        "colab_type": "code",
        "outputId": "e06fd21d-8d54-4925-8c56-9a462e48b98b",
        "colab": {
          "base_uri": "https://localhost:8080/",
          "height": 36
        }
      },
      "source": [
        "stats.shapiro(bcdata_M['perimeter_mean'])"
      ],
      "execution_count": 0,
      "outputs": [
        {
          "output_type": "execute_result",
          "data": {
            "text/plain": [
              "(0.9730151891708374, 0.00043255911441519856)"
            ]
          },
          "metadata": {
            "tags": []
          },
          "execution_count": 46
        }
      ]
    },
    {
      "cell_type": "code",
      "metadata": {
        "id": "mICHqX16T0UE",
        "colab_type": "code",
        "outputId": "18d6f605-8b14-4ff2-f777-e63d8cc7e3f6",
        "colab": {
          "base_uri": "https://localhost:8080/",
          "height": 36
        }
      },
      "source": [
        "stats.shapiro(bcdata_B['radius_mean'])"
      ],
      "execution_count": 0,
      "outputs": [
        {
          "output_type": "execute_result",
          "data": {
            "text/plain": [
              "(0.9966529011726379, 0.6679348349571228)"
            ]
          },
          "metadata": {
            "tags": []
          },
          "execution_count": 47
        }
      ]
    },
    {
      "cell_type": "code",
      "metadata": {
        "id": "L-OsjXwET0rb",
        "colab_type": "code",
        "outputId": "4df47027-db1f-4606-abf3-14181cd6338e",
        "colab": {
          "base_uri": "https://localhost:8080/",
          "height": 36
        }
      },
      "source": [
        "stats.shapiro(bcdata_B['texture_mean'])"
      ],
      "execution_count": 0,
      "outputs": [
        {
          "output_type": "execute_result",
          "data": {
            "text/plain": [
              "(0.9441728591918945, 2.384618336126465e-10)"
            ]
          },
          "metadata": {
            "tags": []
          },
          "execution_count": 48
        }
      ]
    },
    {
      "cell_type": "code",
      "metadata": {
        "id": "vzyxkW3tT1B0",
        "colab_type": "code",
        "outputId": "55d49ceb-3809-412c-ad79-53b048905d91",
        "colab": {
          "base_uri": "https://localhost:8080/",
          "height": 36
        }
      },
      "source": [
        "stats.shapiro(bcdata_B['perimeter_mean'])"
      ],
      "execution_count": 0,
      "outputs": [
        {
          "output_type": "execute_result",
          "data": {
            "text/plain": [
              "(0.9970959424972534, 0.7794296145439148)"
            ]
          },
          "metadata": {
            "tags": []
          },
          "execution_count": 49
        }
      ]
    },
    {
      "cell_type": "markdown",
      "metadata": {
        "id": "K7-SCstIPNQF",
        "colab_type": "text"
      },
      "source": [
        "Below I test the 3 variables and two datasets for outliers by making a top ten list of zscores for results that reside far from the mean. Across the 3 variables and both malignant and benign data there are significant outliers everywhere. But yet the malignant data failed the shapiro test.\n"
      ]
    },
    {
      "cell_type": "code",
      "metadata": {
        "id": "HPklwkvm5-Pf",
        "colab_type": "code",
        "colab": {}
      },
      "source": [
        "def print_top5bot5(zlist):\n",
        "  zlist.sort()\n",
        "  zlist.size\n",
        "  print(zlist[0:5])\n",
        "  print(zlist[-5:-1]) \n",
        "  print(zlist[-1])"
      ],
      "execution_count": 0,
      "outputs": []
    },
    {
      "cell_type": "code",
      "metadata": {
        "id": "_nXP-TfgxuUk",
        "colab_type": "code",
        "outputId": "cbab6d6b-be77-4bd8-9e9e-c7e259c644ea",
        "colab": {
          "base_uri": "https://localhost:8080/",
          "height": 73
        }
      },
      "source": [
        "print_top5bot5(stats.zscore(bcdata_M['radius_mean']))"
      ],
      "execution_count": 0,
      "outputs": [
        {
          "output_type": "stream",
          "text": [
            "[-2.03754809 -1.99687741 -1.89050793 -1.78413845 -1.77162439]\n",
            "[2.42684149 2.58639571 3.0525443  3.11511459]\n",
            "3.330982057202953\n"
          ],
          "name": "stdout"
        }
      ]
    },
    {
      "cell_type": "code",
      "metadata": {
        "id": "PGVYr18r4jvR",
        "colab_type": "code",
        "outputId": "c9d5b000-d8be-43bf-9dc0-90561f3db1b5",
        "colab": {
          "base_uri": "https://localhost:8080/",
          "height": 73
        }
      },
      "source": [
        "print_top5bot5(stats.zscore(bcdata_B['radius_mean']))"
      ],
      "execution_count": 0,
      "outputs": [
        {
          "output_type": "stream",
          "text": [
            "[-2.90521754 -2.50589609 -2.48452396 -2.4670888  -2.22187168]\n",
            "[2.26290189 2.33601709 2.44850201 2.63972636]\n",
            "3.20777518398041\n"
          ],
          "name": "stdout"
        }
      ]
    },
    {
      "cell_type": "code",
      "metadata": {
        "id": "7SuFq5bDxw3J",
        "colab_type": "code",
        "outputId": "68be1a6c-d420-4eeb-b7f8-24f19bc77588",
        "colab": {
          "base_uri": "https://localhost:8080/",
          "height": 73
        }
      },
      "source": [
        "print_top5bot5(stats.zscore(bcdata_M['texture_mean']))"
      ],
      "execution_count": 0,
      "outputs": [
        {
          "output_type": "stream",
          "text": [
            "[-2.97699777 -2.57652522 -1.94796896 -1.92675187 -1.7384502 ]\n",
            "[2.39092573 2.52353253 2.88157091 3.17065375]\n",
            "4.687675603281357\n"
          ],
          "name": "stdout"
        }
      ]
    },
    {
      "cell_type": "code",
      "metadata": {
        "id": "06YXs8FE4U7c",
        "colab_type": "code",
        "outputId": "bbe6a52d-06b3-4e58-ed5b-84b56fb12d37",
        "colab": {
          "base_uri": "https://localhost:8080/",
          "height": 73
        }
      },
      "source": [
        "print_top5bot5(stats.zscore(bcdata_B['texture_mean']))"
      ],
      "execution_count": 0,
      "outputs": [
        {
          "output_type": "stream",
          "text": [
            "[-2.056576   -1.80341305 -1.77834741 -1.76080146 -1.75578833]\n",
            "[2.87132863 2.88636801 3.02172247 3.20971476]\n",
            "3.984243003963385\n"
          ],
          "name": "stdout"
        }
      ]
    },
    {
      "cell_type": "code",
      "metadata": {
        "id": "mtCYzbgZxxGN",
        "colab_type": "code",
        "outputId": "da412d11-133c-4d2a-f206-147b7ea6f6a3",
        "colab": {
          "base_uri": "https://localhost:8080/",
          "height": 73
        }
      },
      "source": [
        "print_top5bot5(stats.zscore(bcdata_M['perimeter_mean']))"
      ],
      "execution_count": 0,
      "outputs": [
        {
          "output_type": "stream",
          "text": [
            "[-1.99354588 -1.92933468 -1.85136393 -1.73303185 -1.71697905]\n",
            "[2.57462267 2.69845857 3.06079322 3.28094592]\n",
            "3.3543301559559904\n"
          ],
          "name": "stdout"
        }
      ]
    },
    {
      "cell_type": "code",
      "metadata": {
        "id": "iOdL28fH4-YF",
        "colab_type": "code",
        "outputId": "18450027-9447-4ad1-a572-af0a3d47871a",
        "colab": {
          "base_uri": "https://localhost:8080/",
          "height": 73
        }
      },
      "source": [
        "print_top5bot5(stats.zscore(bcdata_B['perimeter_mean']))"
      ],
      "execution_count": 0,
      "outputs": [
        {
          "output_type": "stream",
          "text": [
            "[-2.90778806 -2.55751761 -2.55242894 -2.52189689 -2.23608298]\n",
            "[2.25806501 2.39376301 2.41920638 2.57186663]\n",
            "3.0976963631991823\n"
          ],
          "name": "stdout"
        }
      ]
    },
    {
      "cell_type": "markdown",
      "metadata": {
        "id": "UqzP8JtTP2TI",
        "colab_type": "text"
      },
      "source": [
        "Here I throw the kitchen sink at radius_mean to see that comes back. I ttest, kruskal, median and mannwhitney test radius_mean. And they all fail to reject the NULL hypothesis because the p-values are extremely low. I will run the 4 tests on texture_mean and perimeter mean as well.\n"
      ]
    },
    {
      "cell_type": "code",
      "metadata": {
        "id": "HCabDizro3fZ",
        "colab_type": "code",
        "outputId": "d49a179b-2653-467f-9dc3-333dad189653",
        "colab": {
          "base_uri": "https://localhost:8080/",
          "height": 56
        }
      },
      "source": [
        "stats.ttest_ind(bcdata_M['radius_mean'], bcdata_B['radius_mean'])\n"
      ],
      "execution_count": 0,
      "outputs": [
        {
          "output_type": "execute_result",
          "data": {
            "text/plain": [
              "Ttest_indResult(statistic=25.435821610057054, pvalue=8.465940572262422e-96)"
            ]
          },
          "metadata": {
            "tags": []
          },
          "execution_count": 50
        }
      ]
    },
    {
      "cell_type": "code",
      "metadata": {
        "id": "MsQAraEzrD0k",
        "colab_type": "code",
        "outputId": "ac5434f0-80a2-48aa-e77d-ce0e46f00ec4",
        "colab": {
          "base_uri": "https://localhost:8080/",
          "height": 36
        }
      },
      "source": [
        "stats.kruskal(bcdata_M['radius_mean'], bcdata_B['radius_mean'])"
      ],
      "execution_count": 0,
      "outputs": [
        {
          "output_type": "execute_result",
          "data": {
            "text/plain": [
              "KruskalResult(statistic=305.00114169591234, pvalue=2.680528928198788e-68)"
            ]
          },
          "metadata": {
            "tags": []
          },
          "execution_count": 51
        }
      ]
    },
    {
      "cell_type": "code",
      "metadata": {
        "id": "cpR3NnJKrd7N",
        "colab_type": "code",
        "outputId": "5e3662d6-7302-449f-998a-724b8148fb18",
        "colab": {
          "base_uri": "https://localhost:8080/",
          "height": 54
        }
      },
      "source": [
        "stats.median_test(bcdata_M['radius_mean'], bcdata_B['radius_mean'])\n"
      ],
      "execution_count": 0,
      "outputs": [
        {
          "output_type": "execute_result",
          "data": {
            "text/plain": [
              "(236.52797526117857, 2.247938676287646e-53, 13.37, array([[195,  89],\n",
              "        [ 17, 268]]))"
            ]
          },
          "metadata": {
            "tags": []
          },
          "execution_count": 52
        }
      ]
    },
    {
      "cell_type": "code",
      "metadata": {
        "id": "B5kLUh-orrXe",
        "colab_type": "code",
        "outputId": "7c1eba5f-54e8-4a0c-ba1d-8cd79a5291ff",
        "colab": {
          "base_uri": "https://localhost:8080/",
          "height": 36
        }
      },
      "source": [
        "stats.mannwhitneyu(bcdata_M['radius_mean'], bcdata_B['radius_mean'])"
      ],
      "execution_count": 0,
      "outputs": [
        {
          "output_type": "execute_result",
          "data": {
            "text/plain": [
              "MannwhitneyuResult(statistic=4729.0, pvalue=1.3464713863982824e-68)"
            ]
          },
          "metadata": {
            "tags": []
          },
          "execution_count": 53
        }
      ]
    },
    {
      "cell_type": "markdown",
      "metadata": {
        "id": "9TpKQRN_Qlui",
        "colab_type": "text"
      },
      "source": [
        "Here texture_mean fails to reject the NULL for all 4 tests again will very low p-values."
      ]
    },
    {
      "cell_type": "code",
      "metadata": {
        "id": "P-cF25wySdgU",
        "colab_type": "code",
        "outputId": "42821b83-771d-44ba-eb3d-c57481eeb828",
        "colab": {
          "base_uri": "https://localhost:8080/",
          "height": 56
        }
      },
      "source": [
        "stats.ttest_ind(bcdata_M['texture_mean'], bcdata_B['texture_mean'])\n"
      ],
      "execution_count": 0,
      "outputs": [
        {
          "output_type": "execute_result",
          "data": {
            "text/plain": [
              "Ttest_indResult(statistic=10.86720108146434, pvalue=4.0586360478980736e-25)"
            ]
          },
          "metadata": {
            "tags": []
          },
          "execution_count": 54
        }
      ]
    },
    {
      "cell_type": "code",
      "metadata": {
        "id": "e51WJKOKSsDJ",
        "colab_type": "code",
        "outputId": "eab0d528-99d6-4822-e350-2bb954d7392f",
        "colab": {
          "base_uri": "https://localhost:8080/",
          "height": 36
        }
      },
      "source": [
        "stats.kruskal(bcdata_M['texture_mean'], bcdata_B['texture_mean'])\n"
      ],
      "execution_count": 0,
      "outputs": [
        {
          "output_type": "execute_result",
          "data": {
            "text/plain": [
              "KruskalResult(statistic=121.22093055992241, pvalue=3.418605714119009e-28)"
            ]
          },
          "metadata": {
            "tags": []
          },
          "execution_count": 55
        }
      ]
    },
    {
      "cell_type": "code",
      "metadata": {
        "id": "CdMy5ImxSpXm",
        "colab_type": "code",
        "outputId": "d5deca6a-98d5-4188-ee9b-a9bc52ed5890",
        "colab": {
          "base_uri": "https://localhost:8080/",
          "height": 54
        }
      },
      "source": [
        "stats.median_test(bcdata_M['texture_mean'], bcdata_B['texture_mean'])\n"
      ],
      "execution_count": 0,
      "outputs": [
        {
          "output_type": "execute_result",
          "data": {
            "text/plain": [
              "(107.13187769388985, 4.165102795584876e-25, 18.84, array([[166, 118],\n",
              "        [ 46, 239]]))"
            ]
          },
          "metadata": {
            "tags": []
          },
          "execution_count": 56
        }
      ]
    },
    {
      "cell_type": "code",
      "metadata": {
        "id": "0b8c-GGSGruP",
        "colab_type": "code",
        "outputId": "7a23b37e-df84-454d-a3da-4084d22c0f81",
        "colab": {
          "base_uri": "https://localhost:8080/",
          "height": 36
        }
      },
      "source": [
        "stats.mannwhitneyu(bcdata_M['texture_mean'], bcdata_B['texture_mean'])"
      ],
      "execution_count": 0,
      "outputs": [
        {
          "output_type": "execute_result",
          "data": {
            "text/plain": [
              "MannwhitneyuResult(statistic=16966.5, pvalue=1.7143132523721134e-28)"
            ]
          },
          "metadata": {
            "tags": []
          },
          "execution_count": 57
        }
      ]
    },
    {
      "cell_type": "markdown",
      "metadata": {
        "id": "yqFHT1PaQ3aj",
        "colab_type": "text"
      },
      "source": [
        "And perimeter_mean fails to reject the NULL as well for all four tests.\n"
      ]
    },
    {
      "cell_type": "code",
      "metadata": {
        "id": "BTDcN1lzVT7A",
        "colab_type": "code",
        "outputId": "5fbcd43f-4be5-4292-b081-379b688e7191",
        "colab": {
          "base_uri": "https://localhost:8080/",
          "height": 56
        }
      },
      "source": [
        "stats.ttest_ind(bcdata_M['perimeter_mean'], bcdata_B['perimeter_mean'])"
      ],
      "execution_count": 0,
      "outputs": [
        {
          "output_type": "execute_result",
          "data": {
            "text/plain": [
              "Ttest_indResult(statistic=26.405212979192665, pvalue=8.43625103617473e-101)"
            ]
          },
          "metadata": {
            "tags": []
          },
          "execution_count": 58
        }
      ]
    },
    {
      "cell_type": "code",
      "metadata": {
        "id": "iVioohxdc7Zx",
        "colab_type": "code",
        "outputId": "8431f204-a474-430d-9eea-f5318ae31c44",
        "colab": {
          "base_uri": "https://localhost:8080/",
          "height": 36
        }
      },
      "source": [
        "stats.kruskal(bcdata_M['perimeter_mean'], bcdata_B['perimeter_mean'])\n"
      ],
      "execution_count": 0,
      "outputs": [
        {
          "output_type": "execute_result",
          "data": {
            "text/plain": [
              "KruskalResult(statistic=318.21988483157037, pvalue=3.537139549987364e-71)"
            ]
          },
          "metadata": {
            "tags": []
          },
          "execution_count": 59
        }
      ]
    },
    {
      "cell_type": "code",
      "metadata": {
        "id": "U0id11Gpc7q6",
        "colab_type": "code",
        "outputId": "af852f1a-f448-40e1-8a92-ebaf9d2fae88",
        "colab": {
          "base_uri": "https://localhost:8080/",
          "height": 54
        }
      },
      "source": [
        "stats.median_test(bcdata_M['perimeter_mean'], bcdata_B['perimeter_mean'])\n"
      ],
      "execution_count": 0,
      "outputs": [
        {
          "output_type": "execute_result",
          "data": {
            "text/plain": [
              "(241.89208463622737, 1.5210841058376233e-54, 86.24, array([[196,  88],\n",
              "        [ 16, 269]]))"
            ]
          },
          "metadata": {
            "tags": []
          },
          "execution_count": 60
        }
      ]
    },
    {
      "cell_type": "code",
      "metadata": {
        "id": "LPGltGVVc724",
        "colab_type": "code",
        "outputId": "259bc889-dfa0-4d0f-fa9b-94e82fdc8b05",
        "colab": {
          "base_uri": "https://localhost:8080/",
          "height": 36
        }
      },
      "source": [
        "stats.mannwhitneyu(bcdata_M['perimeter_mean'], bcdata_B['perimeter_mean'])"
      ],
      "execution_count": 0,
      "outputs": [
        {
          "output_type": "execute_result",
          "data": {
            "text/plain": [
              "MannwhitneyuResult(statistic=4019.0, pvalue=1.7769351129819374e-71)"
            ]
          },
          "metadata": {
            "tags": []
          },
          "execution_count": 61
        }
      ]
    },
    {
      "cell_type": "markdown",
      "metadata": {
        "id": "-nX0lYl1RCcl",
        "colab_type": "text"
      },
      "source": [
        "Just being curious I run one way anova on all 3 variables to see what the p-value is there as well. Again very low p-values."
      ]
    },
    {
      "cell_type": "code",
      "metadata": {
        "id": "uP5_BxP89SYt",
        "colab_type": "code",
        "outputId": "08cb4118-092c-4ed9-e26c-bf9dd6e31a90",
        "colab": {
          "base_uri": "https://localhost:8080/",
          "height": 36
        }
      },
      "source": [
        "stats.f_oneway(bcdata_M['radius_mean'], bcdata_B['radius_mean'])"
      ],
      "execution_count": 0,
      "outputs": [
        {
          "output_type": "execute_result",
          "data": {
            "text/plain": [
              "F_onewayResult(statistic=646.9810209786452, pvalue=8.46594057226382e-96)"
            ]
          },
          "metadata": {
            "tags": []
          },
          "execution_count": 62
        }
      ]
    },
    {
      "cell_type": "code",
      "metadata": {
        "id": "shHzsxZ1AfLQ",
        "colab_type": "code",
        "outputId": "3a217c55-c533-463e-e1e5-610c8c2dbd87",
        "colab": {
          "base_uri": "https://localhost:8080/",
          "height": 56
        }
      },
      "source": [
        "stats.f_oneway(bcdata_M['texture_mean'], bcdata_B['texture_mean'])"
      ],
      "execution_count": 0,
      "outputs": [
        {
          "output_type": "execute_result",
          "data": {
            "text/plain": [
              "F_onewayResult(statistic=118.09605934497965, pvalue=4.0586360478986136e-25)"
            ]
          },
          "metadata": {
            "tags": []
          },
          "execution_count": 63
        }
      ]
    },
    {
      "cell_type": "code",
      "metadata": {
        "id": "hFT4vlqSAqa8",
        "colab_type": "code",
        "outputId": "91c45246-b92d-4d7a-a578-c378f87f48fd",
        "colab": {
          "base_uri": "https://localhost:8080/",
          "height": 36
        }
      },
      "source": [
        "stats.f_oneway(bcdata_M['perimeter_mean'], bcdata_B['perimeter_mean'])"
      ],
      "execution_count": 0,
      "outputs": [
        {
          "output_type": "execute_result",
          "data": {
            "text/plain": [
              "F_onewayResult(statistic=697.2352724765257, pvalue=8.43625103617395e-101)"
            ]
          },
          "metadata": {
            "tags": []
          },
          "execution_count": 64
        }
      ]
    },
    {
      "cell_type": "code",
      "metadata": {
        "id": "w67nACAvNfSh",
        "colab_type": "code",
        "colab": {}
      },
      "source": [
        "def get_95_ci(array_1, array_2):\n",
        "    sample_1_n = array_1.shape[0]\n",
        "    sample_2_n = array_2.shape[0]\n",
        "    sample_1_mean = array_1.mean()\n",
        "    sample_2_mean = array_2.mean()\n",
        "    sample_1_var = array_1.var()\n",
        "    sample_2_var = array_2.var()\n",
        "    mean_difference = sample_2_mean - sample_1_mean\n",
        "    std_err_difference = math.sqrt((sample_1_var/sample_1_n)+(sample_2_var/sample_2_n))\n",
        "    margin_of_error = 1.96 * std_err_difference\n",
        "    ci_lower = mean_difference - margin_of_error\n",
        "    ci_upper = mean_difference + margin_of_error\n",
        "    return(\"The difference in means at the 95% confidence interval (two-tail) is between \"+str(ci_lower)+\" and \"+str(ci_upper)+\".\")\n",
        "\n"
      ],
      "execution_count": 0,
      "outputs": []
    },
    {
      "cell_type": "markdown",
      "metadata": {
        "id": "byFYeA0DSQBx",
        "colab_type": "text"
      },
      "source": [
        "I run a 95% confidence interval on all three variables. \n",
        "The standard deviation for the radius_mean for the entire data was 3.5 and the difference between malignant and benign is 130% to 160% of the std. That is definitely a significant difference. \n",
        "Texture_mean is 85% to 100% difference of the standard deviation. Perimeter_mean is %140 to %166 of the original standard deviation as well. This was noticeable in the boxplot and comparing the histogram  plots of the malignant and benign datasets.\n",
        "\n",
        "The standard deviation of the entire data was 3.5, 4.3 and 91.9 respectively for those 3 variables.\n",
        "\n"
      ]
    },
    {
      "cell_type": "code",
      "metadata": {
        "id": "5xUs2geXNmxP",
        "colab_type": "code",
        "outputId": "4cfb0ef7-d71f-49a8-8ed4-e3ef9315f1c8",
        "colab": {
          "base_uri": "https://localhost:8080/",
          "height": 56
        }
      },
      "source": [
        "print(get_95_ci(bcdata_B['radius_mean'], bcdata_M['radius_mean']));"
      ],
      "execution_count": 0,
      "outputs": [
        {
          "output_type": "stream",
          "text": [
            "The difference in means at the 95% confidence interval (two-tail) is between 4.847124723467965 and 5.7854880348429125.\n"
          ],
          "name": "stdout"
        }
      ]
    },
    {
      "cell_type": "code",
      "metadata": {
        "id": "pB_G0N21QPHC",
        "colab_type": "code",
        "outputId": "b671c819-4101-419f-f588-e6134c973adb",
        "colab": {
          "base_uri": "https://localhost:8080/",
          "height": 56
        }
      },
      "source": [
        "print(get_95_ci(bcdata_B['texture_mean'], bcdata_M['texture_mean']));"
      ],
      "execution_count": 0,
      "outputs": [
        {
          "output_type": "stream",
          "text": [
            "The difference in means at the 95% confidence interval (two-tail) is between 3.0339447927021377 and 4.34634271852878.\n"
          ],
          "name": "stdout"
        }
      ]
    },
    {
      "cell_type": "code",
      "metadata": {
        "id": "e0YeeEMiQvdw",
        "colab_type": "code",
        "outputId": "5f33a8a1-fc75-45d9-8db0-6439d4b432ab",
        "colab": {
          "base_uri": "https://localhost:8080/",
          "height": 56
        }
      },
      "source": [
        "print(get_95_ci(bcdata_B['perimeter_mean'], bcdata_M['perimeter_mean']));"
      ],
      "execution_count": 0,
      "outputs": [
        {
          "output_type": "stream",
          "text": [
            "The difference in means at the 95% confidence interval (two-tail) is between 34.10325466400698 and 40.47668772804431.\n"
          ],
          "name": "stdout"
        }
      ]
    },
    {
      "cell_type": "markdown",
      "metadata": {
        "id": "JnlBrtOfWCDV",
        "colab_type": "text"
      },
      "source": [
        "Last thing is to run a pointplot to show visually there is a significant difference between the malignant and benign data sets for radius_mean, texture_mean, and perimeter_mean. The values are higher in the malignant dataset for all three values. "
      ]
    },
    {
      "cell_type": "code",
      "metadata": {
        "id": "j8lqukVqU46T",
        "colab_type": "code",
        "outputId": "117a3ca6-20a7-4378-820b-da11037da241",
        "colab": {
          "base_uri": "https://localhost:8080/",
          "height": 265
        }
      },
      "source": [
        "g = sns.pointplot(data=[bcdata_M['radius_mean'], bcdata_B['radius_mean']], \n",
        "                  join=False, color='magenta')\n",
        "                        \n",
        "g.set(xticklabels = ['Malignant Radius', 'Benign Radius'])\n",
        "plt.show()\n"
      ],
      "execution_count": 0,
      "outputs": [
        {
          "output_type": "display_data",
          "data": {
            "image/png": "[encoded data removed]",
            "text/plain": [
              "<Figure size 432x288 with 1 Axes>"
            ]
          },
          "metadata": {
            "tags": []
          }
        }
      ]
    },
    {
      "cell_type": "code",
      "metadata": {
        "id": "XauTNHx8Yh-W",
        "colab_type": "code",
        "outputId": "645b998b-5dcd-4294-cda4-e768004b359b",
        "colab": {
          "base_uri": "https://localhost:8080/",
          "height": 265
        }
      },
      "source": [
        "g = sns.pointplot(data=[bcdata_M['texture_mean'], bcdata_B['texture_mean']], \n",
        "                  join=False, color='magenta')\n",
        "                        \n",
        "g.set(xticklabels = ['Malignant Texture', 'Benign Texture'])\n",
        "plt.show()\n"
      ],
      "execution_count": 0,
      "outputs": [
        {
          "output_type": "display_data",
          "data": {
            "image/png": "[encoded data removed]",
            "text/plain": [
              "<Figure size 432x288 with 1 Axes>"
            ]
          },
          "metadata": {
            "tags": []
          }
        }
      ]
    },
    {
      "cell_type": "code",
      "metadata": {
        "id": "sMOW-ESWY6SD",
        "colab_type": "code",
        "outputId": "765e8ca1-324f-4e45-d760-3dfc1d60472b",
        "colab": {
          "base_uri": "https://localhost:8080/",
          "height": 267
        }
      },
      "source": [
        "g = sns.pointplot(data=[bcdata_M['perimeter_mean'], bcdata_B['perimeter_mean']], \n",
        "                  join=False, color='magenta')\n",
        "                        \n",
        "g.set(xticklabels = ['Malignant Perimeter', 'Benign Perimeter'])\n",
        "plt.show()\n"
      ],
      "execution_count": 0,
      "outputs": [
        {
          "output_type": "display_data",
          "data": {
            "image/png": "[encoded data removed]",
            "text/plain": [
              "<Figure size 432x288 with 1 Axes>"
            ]
          },
          "metadata": {
            "tags": []
          }
        }
      ]
    },
    {
      "cell_type": "markdown",
      "metadata": {
        "id": "O5R18U2OWoh3",
        "colab_type": "text"
      },
      "source": [
        "Summary:\n",
        "\n",
        "The conclusion of these results is that for radius_mean, texture_mean and perimeter_mean the values for all three would be larger in a malignant sample of breast cancer cells collected from a FNA needle biopsy. There are 28 other variables just in this data provided and those would also need to be analyzed to understand these results. \n",
        "\n",
        "The data assembled for this project may have been assembled specifically for machine learning testing. It just happened to fit the purposes for an AB test for this project. \n",
        "\n",
        "The other issue is the size of the dataset. It may be quite large for these sorts for medical testing studies. It may be that medical studies just have to deal with smaller and thus non-normal datasets and being able to work with these problems is the nature of the problem.\n",
        "\n",
        "If I could collect more data for this project I would like to have data from other states besides Wisconsin. Also the data was collected in 1995 so it is 25 years old. The instruments used to create this data are probably much better than what was used back then. If the images are digitized, I am sure the images collected today are much higher resolution. Also since 1995 there is been a lot of work with genetic testing. It would be nice to see what genetic testing data collected from needle biopsy could or would be included from cell samples taken today. And before the needle biopsy CT scans and MRI scans of the patient to show the entire tumor and perhaps other tumors in the same area would be even more data to consider. Size of the overall tumor was not considered here but would be signicant information to add to the overall picture and improve the diagnostic process. \n"
      ]
    }
  ]
}